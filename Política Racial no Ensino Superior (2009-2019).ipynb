{
 "cells": [
  {
   "cell_type": "markdown",
   "metadata": {},
   "source": [
    "Desafio Técnico Sigalei\n",
    "\n",
    "O racismo estrutural é um problema histórico que foi evidenciado neste ano de 2020 por diversos fatos marcantes. Entre eles, o crescimento exponencial do movimento Black Lives Matter (Vidas negras importam), que expandiu pelo mundo todo, inclusive no Brasil.\n",
    "\n",
    "Para combater o racismo, existem diversas iniciativas, dentre elas, as cotas raciais. As cotas aceleram o processo de permitir o acesso a oportunidades que devido, à estrutura sistemática, é distante da realidade de grande parte da população negra do país, que constitui cerca de 56% dos brasileiros, segundo o IBGE.\n",
    "\n",
    "As primeiras cotas universitárias foram implementadas ainda no governo Lula em 2009, ou seja, há mais de 10 anos, sendo que, ao longo desses anos e das mudanças de governo, a adesão de instituições públicas de ensino superior a esse sistema também se modificou.\n",
    "\n",
    "O objetivo desse desafio é coletar, transformar e armazenar os dados do censo universitário desde 2009 até 2019 em uma base da sua preferência para analisar os impactos dessa política pública no perfil do universitário brasileiro ao longo dos últimos 11 anos.\n",
    "\n",
    "Objetivos:\n",
    "Coletar e armazenar os dados do censo universitário em uma base da sua preferência;\n",
    "Analisar o impacto da presença de pretos e pardos no curso superior\n",
    "\n",
    "Entregáveis que esperamos\n",
    "- Código gerado para realizar a análise no Github dos dados desde 2009\n",
    "- Análise gerada. Pode ser pdf, página html ou um notebook (preferível)\n",
    "\n",
    "Requisitos\n",
    "Todo o código deve ser desenvolvido em python\n",
    "\n",
    "Prazo\n",
    "23h do dia 29/11/2020\n",
    "\n",
    "O objetivo desse desafio é verificar os seus conhecimentos em python, mas também contribuir com o debate sobre as políticas públicas contra o racismo estrutural. Dessa forma, os resultados gerados, com a sua permissão e devidos créditos, serão compilados, analisados e compartilhados pela equipe da Sigalei publicamente.\n",
    "\n",
    "Algumas análise que podem ser interessantes\n",
    "- Total de negros matriculados em universidades\n",
    "- Total de negros matriculados em universidades públicas\n",
    "- Total e proporção de negros matriculados por tipo de curso em universidades públicas\n",
    "\n",
    "Dados\n",
    "- Os dados que você irá utilizar são os microdados disponibilizados nesse site:\n",
    "https://www.gov.br/inep/pt-br/areas-de-atuacao/pesquisas-estatisticas-e-indicadores/censo-da-educacao-superior/resultados?_authenticator=73b6b0e03f10cadf5ec8ab8e09e6be4f931e571f\n",
    "\n",
    "Alguns links que podem te ajudar\n",
    "\n",
    "https://github.com/search?q=censo+educa%C3%A7%C3%A3o+superior"
   ]
  },
  {
   "cell_type": "code",
   "execution_count": 5,
   "metadata": {
    "scrolled": true
   },
   "outputs": [],
   "source": [
    "import pandas as pd\n",
    "from glob import glob\n",
    "import os\n",
    "from dask import dataframe as dd\n",
    "import numpy as np\n",
    "import matplotlib.pyplot as plt\n",
    "from IPython.display import Markdown as md\n",
    "pd.set_option('display.max_rows', 100)\n",
    "pd.set_option('display.max_columns', 100)\n",
    "pd.options.display.max_seq_items = 2000"
   ]
  },
  {
   "cell_type": "code",
   "execution_count": 6,
   "metadata": {},
   "outputs": [],
   "source": [
    "#win\n",
    "#dir_raiz = r'D:\\microdados_educacao_superior_2019\\dados'"
   ]
  },
  {
   "cell_type": "markdown",
   "metadata": {},
   "source": [
    "# Selecionando os diretorios para análise dos dataframes"
   ]
  },
  {
   "cell_type": "code",
   "execution_count": 7,
   "metadata": {},
   "outputs": [],
   "source": [
    "#ubuntu\n",
    "dir_2009 = '/media/leandro/B696BB2796BAE6D1/Users/eppmi/Desktop/educacao superior/microdados_censo_superior_2009/2009/DADOS/'\n",
    "dir_2010 = '/media/leandro/B696BB2796BAE6D1/Users/eppmi/Desktop/educacao superior/microdados_censo_superior_2010/DADOS/'\n",
    "dir_2011 = '/media/leandro/B696BB2796BAE6D1/Users/eppmi/Desktop/educacao superior/microdados_censo_superior_2011/2011/DADOS/'\n",
    "dir_2012 = '/media/leandro/B696BB2796BAE6D1/Users/eppmi/Desktop/educacao superior/microdados_censo_superior_2012/2012/DADOS/'\n",
    "dir_2013 = '/media/leandro/B696BB2796BAE6D1/Users/eppmi/Desktop/educacao superior/microdados_censo_superior_2013/2013/DADOS/'\n",
    "dir_2014 = '/media/leandro/B696BB2796BAE6D1/Users/eppmi/Desktop/educacao superior/microdados_censo_superior_2014/2014/DADOS/'\n",
    "dir_2015 = '/media/leandro/B696BB2796BAE6D1/Users/eppmi/Desktop/educacao superior/microdados_censo_superior_2015/DADOS/'\n",
    "dir_2016 = '/media/leandro/B696BB2796BAE6D1/Users/eppmi/Desktop/educacao superior/microdados_censo_superior_2016/DADOS/'\n",
    "dir_2017 = '/media/leandro/B696BB2796BAE6D1/Users/eppmi/Desktop/educacao superior/microdados_educacao_superior_2017/microdados_censo_superior_2017/DADOS/'\n",
    "dir_2018 = '/media/leandro/B696BB2796BAE6D1/Users/eppmi/Desktop/educacao superior/microdados_educacao_superior_2018/microdados_ed_superior_2018/dados/'\n",
    "dir_2019 = '/media/leandro/B696BB2796BAE6D1/Users/eppmi/Desktop/educacao superior/microdados_educacao_superior_2019/microdados_censo_superior_2019/dados/'\n"
   ]
  },
  {
   "cell_type": "code",
   "execution_count": 8,
   "metadata": {},
   "outputs": [
    {
     "data": {
      "text/plain": [
       "['DM_ALUNO.CSV',\n",
       " 'DM_CURSO.CSV',\n",
       " 'DM_DOCENTE.CSV',\n",
       " 'DM_IES.CSV',\n",
       " 'DM_UNIDADE_FUNCIONAMENTO.CSV',\n",
       " 'DM_VAGAS_INSCRITOS_EAD.CSV',\n",
       " 'md5_microdados_ed_superior_2009.txt']"
      ]
     },
     "execution_count": 8,
     "metadata": {},
     "output_type": "execute_result"
    }
   ],
   "source": [
    "os.listdir(dir_2009)"
   ]
  },
  {
   "cell_type": "markdown",
   "metadata": {},
   "source": [
    "# Como os dataframes são grandes e parte das colunas não interessa à análise procederemos à limpeza"
   ]
  },
  {
   "cell_type": "markdown",
   "metadata": {},
   "source": [
    "## Nem todas as colunas são iguais para todos os anos, assim nesse primeira parte verificarei quais são as colunas de interesse para cada ano"
   ]
  },
  {
   "cell_type": "code",
   "execution_count": 9,
   "metadata": {},
   "outputs": [],
   "source": [
    "df = pd.read_csv(dir_2009+\"DM_ALUNO.CSV\", sep=\"|\", encoding=\"latin\", nrows=500)"
   ]
  },
  {
   "cell_type": "code",
   "execution_count": 10,
   "metadata": {},
   "outputs": [
    {
     "data": {
      "text/plain": [
       "Index(['CO_IES', 'NO_IES', 'CO_CATEGORIA_ADMINISTRATIVA',\n",
       "       'DS_CATEGORIA_ADMINISTRATIVA', 'CO_ORGANIZACAO_ACADEMICA',\n",
       "       'NO_ORGANIZACAO_ACADEMICA', 'CO_CURSO', 'NO_CURSO',\n",
       "       'CO_NIVEL_ACADEMICO', 'CO_MODALIDADE_ENSINO', 'CO_GRAU_ACADEMICO',\n",
       "       'CO_VINCULO_ALUNO_CURSO', 'CO_ALUNO', 'CO_ALUNO_SITUACAO',\n",
       "       'IN_ING_PROCESSO_SELETIVO', 'IN_ING_VESTIBULAR', 'IN_ING_ENEM',\n",
       "       'IN_ING_OUTRA_FORMA_SELECAO', 'IN_ING_PROCESSO_OUTRAS_FORMAS',\n",
       "       'IN_ING_CONVENIO_PECG', 'IN_ING_OUTRAS_FORMAS_INGRESSO',\n",
       "       'IN_APOIO_SOCIAL', 'IN_APOIO_ALIMENTACAO', 'IN_APOIO_MORADIA',\n",
       "       'IN_APOIO_TRANSPORTE', 'IN_APOIO_MATERIAL_DIDATICO',\n",
       "       'IN_APOIO_BOLSA_PERMANENCIA', 'IN_APOIO_BOLSA_TRABALHO',\n",
       "       'IN_ALUNO_DEFICIENCIA', 'IN_CEGUEIRA', 'IN_BAIXA_VISAO', 'IN_SURDEZ',\n",
       "       'IN_DEF_AUDITIVA', 'IN_DEF_FISICA', 'IN_SURDOCEGUEIRA',\n",
       "       'IN_DEF_MULTIPLA', 'IN_DEF_MENTAL', 'IN_RESERVA_VAGAS',\n",
       "       'IN_RESERVA_ENSINO_PUBLICO', 'IN_RESERVA_ETNICO',\n",
       "       'IN_RESERVA_DEFICIENCIA', 'IN_RESERVA_RENDA_FAMILIAR',\n",
       "       'IN_RESERVA_OUTROS', 'IN_ATIVIDADE_COMPLEMENTAR',\n",
       "       'IN_ATIV_PESQUISA_REM', 'IN_ATIV_PESQUISA_NAO_REM',\n",
       "       'IN_ATIV_EXTENSAO_REM', 'IN_ATIV_EXTENSAO_NAO_REM',\n",
       "       'IN_ATIV_MONITORIA_REM', 'IN_ATIV_MONITORIA_NAO_REM',\n",
       "       'IN_ATIV_ESTAG_N_OBRIG_REM', 'IN_ATIV_ESTAG_N_OBRIG_NAO_REM',\n",
       "       'IN_FINANC_ESTUDANTIL', 'IN_FINANC_EXTERNAS',\n",
       "       'IN_FINANC_EXTERNAS_REEMB', 'IN_FINANC_IES', 'IN_FINANC_IES_REEMB',\n",
       "       'IN_FINANC_MUNICIPAL', 'IN_FINANC_MUNICIPAL_REEMB',\n",
       "       'IN_FINANC_ESTADUAL', 'IN_FINANC_ESTADUAL_REEMB', 'IN_FINANC_OUTROS',\n",
       "       'IN_FINANC_OUTROS_REEMB', 'IN_PROUNI_INTEGRAL', 'IN_PROUNI_PARCIAL',\n",
       "       'IN_FIES', 'IN_SEXO_ALUNO', 'CO_COR_RACA_ALUNO',\n",
       "       'CO_NACIONALIDADE_ALUNO', 'CO_PAIS_ORIGEM_ALUNO', 'NU_ANO_ALUNO_NASC',\n",
       "       'NU_DIA_ALUNO_NASC', 'NU_MES_ALUNO_NASC', 'NU_IDADE_ALUNO',\n",
       "       'IN_MATRICULA', 'IN_CONCLUINTE', 'IN_INGRESSO', 'DT_INGRESSO_CURSO',\n",
       "       'ANO_INGRESSO'],\n",
       "      dtype='object')"
      ]
     },
     "execution_count": 10,
     "metadata": {},
     "output_type": "execute_result"
    }
   ],
   "source": [
    "df.columns"
   ]
  },
  {
   "cell_type": "code",
   "execution_count": 11,
   "metadata": {},
   "outputs": [],
   "source": [
    "lista_col_2009 = ['CO_CATEGORIA_ADMINISTRATIVA', 'CO_ORGANIZACAO_ACADEMICA',\n",
    "       'NO_CURSO','CO_GRAU_ACADEMICO',\n",
    "       'IN_ING_PROCESSO_SELETIVO', 'IN_ING_VESTIBULAR', 'IN_ING_ENEM',\n",
    "       'IN_ING_OUTRA_FORMA_SELECAO', 'IN_ING_PROCESSO_OUTRAS_FORMAS',\n",
    "       'IN_ING_CONVENIO_PECG', 'IN_ING_OUTRAS_FORMAS_INGRESSO',\n",
    "       'IN_APOIO_SOCIAL', 'IN_APOIO_ALIMENTACAO', 'IN_APOIO_MORADIA',\n",
    "       'IN_APOIO_TRANSPORTE', 'IN_APOIO_MATERIAL_DIDATICO',\n",
    "       'IN_APOIO_BOLSA_PERMANENCIA', 'IN_APOIO_BOLSA_TRABALHO',\n",
    "       'IN_ALUNO_DEFICIENCIA',  'IN_RESERVA_VAGAS',\n",
    "       'IN_RESERVA_ENSINO_PUBLICO', 'IN_RESERVA_ETNICO',\n",
    "       'IN_RESERVA_DEFICIENCIA', 'IN_RESERVA_RENDA_FAMILIAR',\n",
    "       'IN_RESERVA_OUTROS',\n",
    "       'IN_FINANC_ESTUDANTIL', 'IN_FINANC_EXTERNAS',\n",
    "       'IN_FINANC_EXTERNAS_REEMB', 'IN_FINANC_IES', 'IN_FINANC_IES_REEMB',\n",
    "       'IN_FINANC_MUNICIPAL', 'IN_FINANC_MUNICIPAL_REEMB',\n",
    "       'IN_FINANC_ESTADUAL', 'IN_FINANC_ESTADUAL_REEMB', 'IN_FINANC_OUTROS',\n",
    "       'IN_FINANC_OUTROS_REEMB', 'IN_PROUNI_INTEGRAL', 'IN_PROUNI_PARCIAL',\n",
    "       'IN_FIES', 'IN_SEXO_ALUNO', 'CO_COR_RACA_ALUNO',\n",
    "       'IN_INGRESSO']"
   ]
  },
  {
   "cell_type": "code",
   "execution_count": 12,
   "metadata": {},
   "outputs": [
    {
     "data": {
      "text/plain": [
       "['DM_ALUNO.CSV',\n",
       " 'DM_CURSO.CSV',\n",
       " 'DM_DOCENTE.CSV',\n",
       " 'DM_IES.CSV',\n",
       " 'DM_LOCAL_OFERTA.CSV',\n",
       " 'md5_microdados_ed_superior_2010.txt']"
      ]
     },
     "execution_count": 12,
     "metadata": {},
     "output_type": "execute_result"
    }
   ],
   "source": [
    "os.listdir(dir_2010)"
   ]
  },
  {
   "cell_type": "code",
   "execution_count": 13,
   "metadata": {},
   "outputs": [],
   "source": [
    "df2= pd.read_csv(dir_2010+\"DM_ALUNO.CSV\", sep=\"|\", encoding=\"latin\", nrows=500)"
   ]
  },
  {
   "cell_type": "code",
   "execution_count": 14,
   "metadata": {},
   "outputs": [
    {
     "data": {
      "text/plain": [
       "Index(['CO_IES', 'NO_IES', 'CO_CATEGORIA_ADMINISTRATIVA',\n",
       "       'DS_CATEGORIA_ADMINISTRATIVA', 'CO_ORGANIZACAO_ACADEMICA',\n",
       "       'DS_ORGANIZACAO_ACADEMICA', 'CO_CURSO', 'NO_CURSO', 'CO_GRAU_ACADEMICO',\n",
       "       'CO_MODALIDADE_ENSINO', 'CO_NIVEL_ACADEMICO', 'CO_ALUNO_CURSO',\n",
       "       'CO_ALUNO', 'CO_COR_RACA_ALUNO', 'DS_COR_RACA_ALUNO', 'IN_SEXO_ALUNO',\n",
       "       'DS_SEXO_ALUNO', 'NU_ANO_ALUNO_NASC', 'NU_DIA_ALUNO_NASC',\n",
       "       'NU_MES_ALUNO_NASC', 'NU_IDADE_ALUNO', 'CO_NACIONALIDADE_ALUNO',\n",
       "       'CO_PAIS_ORIGEM_ALUNO', 'CO_UF_NASCIMENTO', 'CO_MUNICIPIO_NASCIMENTO',\n",
       "       'CO_ALUNO_SITUACAO', 'IN_ALUNO_DEFICIENCIA', 'IN_DEF_AUDITIVA',\n",
       "       'IN_DEF_FISICA', 'IN_DEF_INTELECTUAL', 'IN_DEF_MULTIPLA',\n",
       "       'IN_DEF_SURDEZ', 'IN_DEF_SURDOCEGUEIRA', 'IN_DEF_BAIXA_VISAO',\n",
       "       'IN_DEF_CEGUEIRA', 'DT_INGRESSO_CURSO', 'IN_ATIVIDADE_COMPLEMENTAR',\n",
       "       'IN_RESERVA_VAGAS', 'IN_FINANC_ESTUDANTIL', 'IN_APOIO_SOCIAL',\n",
       "       'CO_CURSO_POLO', 'CO_TURNO_ALUNO', 'IN_ING_VESTIBULAR', 'IN_ING_ENEM',\n",
       "       'IN_ING_OUTRA_FORMA_SELECAO', 'IN_ING_CONVENIO_PECG',\n",
       "       'IN_ING_OUTRA_FORMA', 'IN_RESERVA_ETNICO', 'IN_RESERVA_DEFICIENCIA',\n",
       "       'IN_RESERVA_ENSINO_PUBLICO', 'IN_RESERVA_RENDA_FAMILIAR',\n",
       "       'IN_RESERVA_OUTROS', 'IN_FIN_REEMB_FIES', 'IN_FIN_REEMB_ESTADUAL',\n",
       "       'IN_FIN_REEMB_MUNICIPAL', 'IN_FIN_REEMB_PROG_IES',\n",
       "       'IN_FIN_REEMB_ENT_EXTERNA', 'IN_FIN_REEMB_OUTRA',\n",
       "       'IN_FIN_NAOREEMB_PROUNI_INTEGR', 'IN_FIN_NAOREEMB_PROUNI_PARCIAL',\n",
       "       'IN_FIN_NAOREEMB_ESTADUAL', 'IN_FIN_NAOREEMB_MUNICIPAL',\n",
       "       'IN_FIN_NAOREEMB_PROG_IES', 'IN_FIN_NAOREEMB_ENT_EXTERNA',\n",
       "       'IN_FIN_NAOREEMB_OUTRA', 'IN_APOIO_ALIMENTACAO',\n",
       "       'IN_APOIO_BOLSA_PERMANENCIA', 'IN_APOIO_BOLSA_TRABALHO',\n",
       "       'IN_APOIO_MATERIAL_DIDATICO', 'IN_APOIO_MORADIA', 'IN_APOIO_TRANSPORTE',\n",
       "       'IN_COMPL_ESTAGIO', 'IN_COMPL_EXTENSAO', 'IN_COMPL_MONITORIA',\n",
       "       'IN_COMPL_PESQUISA', 'IN_BOLSA_ESTAGIO', 'IN_BOLSA_EXTENSAO',\n",
       "       'IN_BOLSA_MONITORIA', 'IN_BOLSA_PESQUISA', 'TP_PROCEDE_EDUC_PUBLICA',\n",
       "       'IN_MATRICULA', 'IN_CONCLUINTE', 'IN_INGRESSO',\n",
       "       'IN_INGRESSO_PROCESSO_SELETIVO', 'IN_INGRESSO_OUTRAS_FORMAS',\n",
       "       'ANO_INGRESSO'],\n",
       "      dtype='object')"
      ]
     },
     "execution_count": 14,
     "metadata": {},
     "output_type": "execute_result"
    }
   ],
   "source": [
    "df2.columns"
   ]
  },
  {
   "cell_type": "code",
   "execution_count": 15,
   "metadata": {
    "scrolled": true
   },
   "outputs": [],
   "source": [
    "lista_col_2010 = ['CO_CATEGORIA_ADMINISTRATIVA',\n",
    "       'CO_ORGANIZACAO_ACADEMICA',\n",
    "       'NO_CURSO', 'CO_GRAU_ACADEMICO',\n",
    "       'CO_COR_RACA_ALUNO', 'IN_SEXO_ALUNO',\n",
    "       'IN_ALUNO_DEFICIENCIA', \n",
    "       'IN_RESERVA_VAGAS', 'IN_FINANC_ESTUDANTIL', 'IN_APOIO_SOCIAL',\n",
    "       'IN_ING_VESTIBULAR', 'IN_ING_ENEM',\n",
    "       'IN_ING_CONVENIO_PECG',\n",
    "       'IN_ING_OUTRA_FORMA', 'IN_RESERVA_ETNICO', 'IN_RESERVA_DEFICIENCIA',\n",
    "       'IN_RESERVA_ENSINO_PUBLICO', 'IN_RESERVA_RENDA_FAMILIAR',\n",
    "       'IN_RESERVA_OUTROS', 'IN_FIN_REEMB_FIES', 'IN_FIN_REEMB_ESTADUAL',\n",
    "       'IN_FIN_REEMB_MUNICIPAL', 'IN_FIN_REEMB_PROG_IES',\n",
    "       'IN_FIN_REEMB_ENT_EXTERNA', 'IN_FIN_REEMB_OUTRA',\n",
    "       'IN_FIN_NAOREEMB_PROUNI_INTEGR', 'IN_FIN_NAOREEMB_PROUNI_PARCIAL',\n",
    "       'IN_FIN_NAOREEMB_ESTADUAL', 'IN_FIN_NAOREEMB_MUNICIPAL',\n",
    "       'IN_FIN_NAOREEMB_PROG_IES', 'IN_FIN_NAOREEMB_ENT_EXTERNA',\n",
    "       'IN_FIN_NAOREEMB_OUTRA', 'IN_INGRESSO']"
   ]
  },
  {
   "cell_type": "code",
   "execution_count": 16,
   "metadata": {
    "scrolled": true
   },
   "outputs": [],
   "source": [
    "lista_col_2011 = lista_col_2010.copy()\n",
    "lista_col_2011.remove('IN_INGRESSO')\n",
    "lista_col_2011.append(\"IN_INGRESSO_TOTAL\")\n",
    "df3= pd.read_csv(dir_2011+\"DM_ALUNO.CSV\", sep=\"|\", encoding=\"latin\", nrows=500, usecols=lista_col_2011)"
   ]
  },
  {
   "cell_type": "code",
   "execution_count": 17,
   "metadata": {},
   "outputs": [],
   "source": [
    "lista_col_2012 = lista_col_2011.copy()\n",
    "lista_col_2012.remove('IN_ALUNO_DEFICIENCIA')\n",
    "lista_col_2012.append(\"IN_ALUNO_DEF_TGD_SUPER\")"
   ]
  },
  {
   "cell_type": "code",
   "execution_count": 18,
   "metadata": {},
   "outputs": [],
   "source": [
    "df4= pd.read_csv(dir_2012+\"DM_ALUNO.CSV\", sep=\"|\", encoding=\"latin\", nrows=500, usecols=lista_col_2012)"
   ]
  },
  {
   "cell_type": "code",
   "execution_count": null,
   "metadata": {},
   "outputs": [],
   "source": []
  },
  {
   "cell_type": "code",
   "execution_count": 19,
   "metadata": {},
   "outputs": [],
   "source": [
    "lista_col_2013 = lista_col_2012.copy()\n",
    "lista_col_2013.remove('IN_FIN_NAOREEMB_OUTRA')\n",
    "lista_col_2013.remove('IN_FIN_REEMB_OUTRA')\n"
   ]
  },
  {
   "cell_type": "code",
   "execution_count": 20,
   "metadata": {
    "scrolled": true
   },
   "outputs": [],
   "source": [
    "df5= pd.read_csv(dir_2013+\"DM_ALUNO.CSV\", sep=\"|\", encoding=\"latin\", nrows=500, usecols=lista_col_2013)"
   ]
  },
  {
   "cell_type": "code",
   "execution_count": 21,
   "metadata": {},
   "outputs": [],
   "source": [
    "lista_col_2014 = lista_col_2013.copy()\n",
    "lista_col_2014.remove('IN_ING_OUTRA_FORMA')\n",
    "lista_col_2014.remove('IN_RESERVA_OUTROS')\n",
    "lista_col_2014.append('IN_RESERVA_OUTRA')"
   ]
  },
  {
   "cell_type": "code",
   "execution_count": 22,
   "metadata": {
    "scrolled": true
   },
   "outputs": [],
   "source": [
    "df6= pd.read_csv(dir_2014+\"DM_ALUNO.CSV\", sep=\"|\", encoding=\"latin\", nrows=500, usecols=lista_col_2014)"
   ]
  },
  {
   "cell_type": "code",
   "execution_count": 23,
   "metadata": {},
   "outputs": [],
   "source": [
    "df7= pd.read_csv(dir_2015+\"DM_ALUNO.CSV\", sep=\"|\", encoding=\"latin\", nrows=500, usecols=lista_col_2014)"
   ]
  },
  {
   "cell_type": "code",
   "execution_count": 24,
   "metadata": {},
   "outputs": [],
   "source": [
    "df8= pd.read_csv(dir_2016+\"DM_ALUNO.CSV\", sep=\"|\", encoding=\"latin\", nrows=500, usecols=lista_col_2014)"
   ]
  },
  {
   "cell_type": "code",
   "execution_count": 25,
   "metadata": {},
   "outputs": [],
   "source": [
    "lista_col_2017 = lista_col_2014.copy()\n",
    "#lista_col_2011.remove('IN_INGRESSO')\n",
    "lista_col_2017 = lista_col_2017.append(\"TP_COR_RACA\")"
   ]
  },
  {
   "cell_type": "code",
   "execution_count": 26,
   "metadata": {},
   "outputs": [],
   "source": [
    "df9= pd.read_csv(dir_2017+\"DM_ALUNO.CSV\", sep=\"|\", encoding=\"latin\", nrows=500, usecols=lista_col_2017)"
   ]
  },
  {
   "cell_type": "code",
   "execution_count": 27,
   "metadata": {},
   "outputs": [],
   "source": [
    "df10 = pd.read_csv(dir_2018+\"DM_ALUNO.CSV\", sep=\"|\", encoding=\"latin\", nrows=500, usecols=lista_col_2017)"
   ]
  },
  {
   "cell_type": "code",
   "execution_count": 28,
   "metadata": {},
   "outputs": [],
   "source": [
    "df11 = pd.read_csv(dir_2019+\"SUP_ALUNO_2019.CSV\", sep=\"|\", encoding=\"latin\", nrows=500, usecols=lista_col_2017)"
   ]
  },
  {
   "cell_type": "markdown",
   "metadata": {},
   "source": [
    "## Com as colunas selecionadas podemos proceder ao upload dos Dataframes\n",
    "\n",
    "Como os dataframes são grandes utilizarei o Dask para leitura"
   ]
  },
  {
   "cell_type": "code",
   "execution_count": 29,
   "metadata": {},
   "outputs": [],
   "source": [
    "df_2009 = dd.read_csv(dir_2009+\"DM_ALUNO.CSV\", sep=\"|\", encoding=\"latin\", usecols=lista_col_2009)"
   ]
  },
  {
   "cell_type": "code",
   "execution_count": 30,
   "metadata": {},
   "outputs": [],
   "source": [
    "df_2010= dd.read_csv(dir_2010+\"DM_ALUNO.CSV\", sep=\"|\", encoding=\"latin\", usecols=lista_col_2010, dtype={'CO_GRAU_ACADEMICO': 'float64'}\n",
    ")"
   ]
  },
  {
   "cell_type": "code",
   "execution_count": 31,
   "metadata": {},
   "outputs": [],
   "source": [
    "df_2011= dd.read_csv(dir_2011+\"DM_ALUNO.CSV\", sep=\"|\", encoding=\"latin\", usecols=lista_col_2011)"
   ]
  },
  {
   "cell_type": "code",
   "execution_count": 32,
   "metadata": {},
   "outputs": [],
   "source": [
    "df_2012= dd.read_csv(dir_2012+\"DM_ALUNO.CSV\", sep=\"|\", encoding=\"latin\", usecols=lista_col_2012)"
   ]
  },
  {
   "cell_type": "code",
   "execution_count": 33,
   "metadata": {},
   "outputs": [],
   "source": [
    "df_2013= dd.read_csv(dir_2013+\"DM_ALUNO.CSV\", sep=\"|\", encoding=\"latin\", usecols=lista_col_2013,dtype={'CO_GRAU_ACADEMICO': 'float64'})"
   ]
  },
  {
   "cell_type": "code",
   "execution_count": 34,
   "metadata": {},
   "outputs": [],
   "source": [
    "df_2014= dd.read_csv(dir_2014+\"DM_ALUNO.CSV\", sep=\"|\", encoding=\"latin\", usecols=lista_col_2014,dtype={'CO_GRAU_ACADEMICO': 'float64'}\n",
    ")"
   ]
  },
  {
   "cell_type": "code",
   "execution_count": 35,
   "metadata": {},
   "outputs": [],
   "source": [
    "df_2015= dd.read_csv(dir_2015+\"DM_ALUNO.CSV\", sep=\"|\", encoding=\"latin\", usecols=lista_col_2014,dtype={'CO_GRAU_ACADEMICO': 'float64'})"
   ]
  },
  {
   "cell_type": "code",
   "execution_count": 36,
   "metadata": {},
   "outputs": [],
   "source": [
    "df_2016= dd.read_csv(dir_2016+\"DM_ALUNO.CSV\", sep=\"|\", encoding=\"latin\", usecols=lista_col_2014, dtype={'CO_GRAU_ACADEMICO': 'float64',\n",
    "       'IN_ING_CONVENIO_PECG': 'float64'})"
   ]
  },
  {
   "cell_type": "code",
   "execution_count": 37,
   "metadata": {},
   "outputs": [],
   "source": [
    "df_2017= dd.read_csv(dir_2017+\"DM_ALUNO.CSV\", sep=\"|\", encoding=\"latin\", usecols=lista_col_2017,dtype={'CO_OCDE_AREA_DETALHADA': 'float64',\n",
    "       'CO_OCDE_AREA_ESPECIFICA': 'float64',\n",
    "       'CO_OCDE_AREA_GERAL': 'float64',\n",
    "       'TP_GRAU_ACADEMICO': 'float64',\n",
    "       'TP_TURNO': 'float64'})"
   ]
  },
  {
   "cell_type": "code",
   "execution_count": 38,
   "metadata": {},
   "outputs": [],
   "source": [
    "df_2018= dd.read_csv(dir_2018+\"DM_ALUNO.CSV\", sep=\"|\", encoding=\"latin\", usecols=lista_col_2017,assume_missing=True, dtype={'CO_PAIS_ORIGEM': 'float64',\n",
    "       'IN_APOIO_SOCIAL': 'float64',\n",
    "       'IN_ATIVIDADE_EXTRACURRICULAR': 'float64',\n",
    "       'IN_CONCLUINTE': 'float64',\n",
    "       'IN_DEFICIENCIA': 'float64',\n",
    "       'IN_INGRESSO_AVALIACAO_SERIADA': 'float64',\n",
    "       'IN_INGRESSO_CONVENIO_PECG': 'float64',\n",
    "       'IN_INGRESSO_DECISAO_JUDICIAL': 'float64',\n",
    "       'IN_INGRESSO_EGRESSO': 'float64',\n",
    "       'IN_INGRESSO_ENEM': 'float64',\n",
    "       'IN_INGRESSO_SELECAO_SIMPLIFICA': 'float64',\n",
    "       'IN_INGRESSO_TOTAL': 'float64',\n",
    "       'IN_INGRESSO_TRANSF_EXOFFICIO': 'float64',\n",
    "       'IN_INGRESSO_VAGA_NOVA': 'float64',\n",
    "       'IN_INGRESSO_VAGA_PROG_ESPECIAL': 'float64',\n",
    "       'IN_INGRESSO_VAGA_REMANESC': 'float64',\n",
    "       'IN_INGRESSO_VESTIBULAR': 'float64',\n",
    "       'IN_MATRICULA': 'float64',\n",
    "       'IN_RESERVA_VAGAS': 'float64',\n",
    "       'NU_ANO_INGRESSO': 'float64',\n",
    "       'NU_IDADE': 'float64',\n",
    "       'QT_CARGA_HORARIA_INTEG': 'float64',\n",
    "       'QT_CARGA_HORARIA_TOTAL': 'float64',\n",
    "       'TP_ESCOLA_CONCLUSAO_ENS_MEDIO': 'float64',\n",
    "       'TP_NACIONALIDADE': 'float64',\n",
    "       'TP_SEMESTRE_REFERENCIA': 'float64',\n",
    "       'TP_SITUACAO': 'float64'}\n",
    ")"
   ]
  },
  {
   "cell_type": "code",
   "execution_count": 39,
   "metadata": {},
   "outputs": [],
   "source": [
    "df_2019= dd.read_csv(dir_2019+\"SUP_ALUNO_2019.CSV\", sep=\"|\", encoding=\"latin\", usecols=lista_col_2017, dtype={'TP_GRAU_ACADEMICO': 'float64',\n",
    "       'TP_TURNO': 'float64'}\n",
    ")"
   ]
  },
  {
   "cell_type": "markdown",
   "metadata": {},
   "source": [
    "## Separando os dataframes apenas para aqueles que se declararam pretos ou pardos"
   ]
  },
  {
   "cell_type": "code",
   "execution_count": 40,
   "metadata": {},
   "outputs": [],
   "source": [
    "df_2009_afro = df_2009[df_2009['CO_COR_RACA_ALUNO'].isin([3, 2])]"
   ]
  },
  {
   "cell_type": "code",
   "execution_count": 41,
   "metadata": {},
   "outputs": [],
   "source": [
    "df_2010_afro = df_2010[df_2010['CO_COR_RACA_ALUNO'].isin([3, 2])]\n",
    "df_2011_afro = df_2011[df_2011['CO_COR_RACA_ALUNO'].isin([3, 2])]\n",
    "df_2012_afro = df_2012[df_2012['CO_COR_RACA_ALUNO'].isin([3, 2])]\n",
    "df_2013_afro = df_2013[df_2013['CO_COR_RACA_ALUNO'].isin([3, 2])]\n",
    "df_2014_afro = df_2014[df_2014['CO_COR_RACA_ALUNO'].isin([3, 2])]\n",
    "df_2015_afro = df_2015[df_2015['CO_COR_RACA_ALUNO'].isin([3, 2])]\n",
    "df_2016_afro = df_2016[df_2016['CO_COR_RACA_ALUNO'].isin([3, 2])]"
   ]
  },
  {
   "cell_type": "code",
   "execution_count": 42,
   "metadata": {
    "scrolled": true
   },
   "outputs": [],
   "source": [
    "df_2017_afro = df_2017[df_2017['TP_COR_RACA'].isin([3, 2])]"
   ]
  },
  {
   "cell_type": "code",
   "execution_count": 43,
   "metadata": {},
   "outputs": [],
   "source": [
    "df_2018_afro = df_2018[df_2018['TP_COR_RACA'].isin([3, 2])]"
   ]
  },
  {
   "cell_type": "code",
   "execution_count": 44,
   "metadata": {},
   "outputs": [],
   "source": [
    "df_2019_afro = df_2019[df_2019['TP_COR_RACA'].isin([3, 2])]"
   ]
  },
  {
   "cell_type": "markdown",
   "metadata": {},
   "source": [
    "# Inicio das análises"
   ]
  },
  {
   "cell_type": "code",
   "execution_count": 45,
   "metadata": {},
   "outputs": [],
   "source": [
    "#Lista dos anos\n",
    "anos = [2009,2010,2011,2012,2013,2014,2015,2016,2017,2018,2019]"
   ]
  },
  {
   "cell_type": "markdown",
   "metadata": {},
   "source": [
    "## Primeiramente analisarei os dados absolutos"
   ]
  },
  {
   "cell_type": "code",
   "execution_count": 46,
   "metadata": {
    "scrolled": true
   },
   "outputs": [
    {
     "name": "stderr",
     "output_type": "stream",
     "text": [
      "/home/leandro/anaconda3/lib/python3.8/site-packages/dask/core.py:121: DtypeWarning: Columns (13) have mixed types.Specify dtype option on import or set low_memory=False.\n",
      "  return func(*(_execute_task(a, cache) for a in args))\n",
      "/home/leandro/anaconda3/lib/python3.8/site-packages/dask/core.py:121: DtypeWarning: Columns (10) have mixed types.Specify dtype option on import or set low_memory=False.\n",
      "  return func(*(_execute_task(a, cache) for a in args))\n",
      "/home/leandro/anaconda3/lib/python3.8/site-packages/dask/core.py:121: DtypeWarning: Columns (10) have mixed types.Specify dtype option on import or set low_memory=False.\n",
      "  return func(*(_execute_task(a, cache) for a in args))\n"
     ]
    }
   ],
   "source": [
    "# Lista com os tamanhos de cada dataframe com afrodescendentes\n",
    "\n",
    "afro = [len(df_2009_afro.index),len(df_2010_afro.index),len(df_2011_afro.index),len(df_2012_afro.index),\n",
    "        len(df_2013_afro.index),len(df_2014_afro.index),len(df_2015_afro.index),len(df_2016_afro.index),\n",
    "        len(df_2017_afro.index),len(df_2018_afro.index),len(df_2019_afro.index)]"
   ]
  },
  {
   "cell_type": "code",
   "execution_count": 47,
   "metadata": {},
   "outputs": [
    {
     "data": {
      "image/png": "[encoded data removed]",
      "text/plain": [
       "<Figure size 1440x1152 with 1 Axes>"
      ]
     },
     "metadata": {
      "needs_background": "light"
     },
     "output_type": "display_data"
    }
   ],
   "source": [
    "fig, ax = plt.subplots(figsize=(20,16))\n",
    "plt.title(\"Número absoluto de afrodescentes no ensino superior por ano\", fontsize= 18)\n",
    "plt.xticks(anos, fontsize =12)\n",
    "plt.yticks(afro, fontsize=12)\n",
    "ax.yaxis.get_major_formatter().set_scientific(False)\n",
    "plt.bar(anos,afro)\n",
    "plt.show()"
   ]
  },
  {
   "cell_type": "markdown",
   "metadata": {},
   "source": [
    "## Como podemos ver há uma crecente no número de alunos afrodescendentes em todo o período.\n",
    "## Esse crescimento pode se dever tanto ao crescimento de vagas quanto à maior proporção de afrodescendentes no ensino superior, vamos analisar:"
   ]
  },
  {
   "cell_type": "code",
   "execution_count": 48,
   "metadata": {},
   "outputs": [
    {
     "name": "stderr",
     "output_type": "stream",
     "text": [
      "/home/leandro/anaconda3/lib/python3.8/site-packages/dask/core.py:121: DtypeWarning: Columns (13) have mixed types.Specify dtype option on import or set low_memory=False.\n",
      "  return func(*(_execute_task(a, cache) for a in args))\n",
      "/home/leandro/anaconda3/lib/python3.8/site-packages/dask/core.py:121: DtypeWarning: Columns (10) have mixed types.Specify dtype option on import or set low_memory=False.\n",
      "  return func(*(_execute_task(a, cache) for a in args))\n",
      "/home/leandro/anaconda3/lib/python3.8/site-packages/dask/core.py:121: DtypeWarning: Columns (10) have mixed types.Specify dtype option on import or set low_memory=False.\n",
      "  return func(*(_execute_task(a, cache) for a in args))\n"
     ]
    }
   ],
   "source": [
    "# Tamanho dos dataframes sem filtro\n",
    "totais = [len(df_2009),len(df_2010),len(df_2011),len(df_2012),\n",
    "        len(df_2013),len(df_2014),len(df_2015),len(df_2016),\n",
    "        len(df_2017),len(df_2018),len(df_2019)]"
   ]
  },
  {
   "cell_type": "code",
   "execution_count": 49,
   "metadata": {
    "scrolled": true
   },
   "outputs": [],
   "source": [
    "# Criando uma lista com os percentis a partir da lista com os totais e com os afrodescendentes\n",
    "percentis = [(a/b)*100 for a,b in zip(afro,totais)]"
   ]
  },
  {
   "cell_type": "code",
   "execution_count": 50,
   "metadata": {},
   "outputs": [
    {
     "data": {
      "image/png": "[encoded data removed]",
      "text/plain": [
       "<Figure size 1440x1152 with 1 Axes>"
      ]
     },
     "metadata": {
      "needs_background": "light"
     },
     "output_type": "display_data"
    }
   ],
   "source": [
    "fig, ax = plt.subplots(figsize=(20,16))\n",
    "plt.title(\"Número relativo de afrodescentes no ensino superior por ano\", fontsize= 18)\n",
    "plt.xticks(anos, fontsize =12)\n",
    "plt.ylabel(\"Percentagem de afrodescendentes\", fontsize=12, labelpad=30)\n",
    "plt.yticks(percentis, fontsize=12)\n",
    "plt.bar(anos,percentis)\n",
    "plt.show()"
   ]
  },
  {
   "cell_type": "code",
   "execution_count": null,
   "metadata": {},
   "outputs": [],
   "source": []
  },
  {
   "cell_type": "markdown",
   "metadata": {},
   "source": [
    "# Podemos verificar que realmente há uma maior concentração de alunos afrodescendentes no ensino superior. Esse movimento é crescente ano a ano e atinge o pico de 37,36% em 2019.\n",
    "\n",
    "# Vamos ver o número absoluto desses alunos."
   ]
  },
  {
   "cell_type": "code",
   "execution_count": 51,
   "metadata": {},
   "outputs": [
    {
     "data": {
      "image/png": "[encoded data removed]",
      "text/plain": [
       "<Figure size 1440x1152 with 1 Axes>"
      ]
     },
     "metadata": {
      "needs_background": "light"
     },
     "output_type": "display_data"
    }
   ],
   "source": [
    "fig, ax = plt.subplots(figsize=(20,16))\n",
    "plt.title(\"Número total de alunos no ensino superior por ano\", fontsize= 18)\n",
    "plt.xticks(anos, fontsize =12)\n",
    "plt.yticks(totais, fontsize=12)\n",
    "plt.ylabel(\"Número absoluto de afrodescendentes (em notação científica [/10000000])\", fontsize=12, labelpad=30)\n",
    "plt.bar(anos,totais)\n",
    "plt.show()"
   ]
  },
  {
   "cell_type": "code",
   "execution_count": 52,
   "metadata": {},
   "outputs": [
    {
     "data": {
      "text/html": [
       "<div>\n",
       "<style scoped>\n",
       "    .dataframe tbody tr th:only-of-type {\n",
       "        vertical-align: middle;\n",
       "    }\n",
       "\n",
       "    .dataframe tbody tr th {\n",
       "        vertical-align: top;\n",
       "    }\n",
       "\n",
       "    .dataframe thead th {\n",
       "        text-align: right;\n",
       "    }\n",
       "</style>\n",
       "<table border=\"1\" class=\"dataframe\">\n",
       "  <thead>\n",
       "    <tr style=\"text-align: right;\">\n",
       "      <th></th>\n",
       "      <th>afro</th>\n",
       "      <th>total</th>\n",
       "      <th>percentagem</th>\n",
       "    </tr>\n",
       "  </thead>\n",
       "  <tbody>\n",
       "    <tr>\n",
       "      <th>2009</th>\n",
       "      <td>581339</td>\n",
       "      <td>6982018</td>\n",
       "      <td>8.326232</td>\n",
       "    </tr>\n",
       "    <tr>\n",
       "      <th>2010</th>\n",
       "      <td>821908</td>\n",
       "      <td>8337219</td>\n",
       "      <td>9.858299</td>\n",
       "    </tr>\n",
       "    <tr>\n",
       "      <th>2011</th>\n",
       "      <td>1004558</td>\n",
       "      <td>8961724</td>\n",
       "      <td>11.209428</td>\n",
       "    </tr>\n",
       "    <tr>\n",
       "      <th>2012</th>\n",
       "      <td>1202579</td>\n",
       "      <td>9565483</td>\n",
       "      <td>12.572068</td>\n",
       "    </tr>\n",
       "    <tr>\n",
       "      <th>2013</th>\n",
       "      <td>1441478</td>\n",
       "      <td>9929289</td>\n",
       "      <td>14.517434</td>\n",
       "    </tr>\n",
       "    <tr>\n",
       "      <th>2014</th>\n",
       "      <td>2249419</td>\n",
       "      <td>10793935</td>\n",
       "      <td>20.839657</td>\n",
       "    </tr>\n",
       "    <tr>\n",
       "      <th>2015</th>\n",
       "      <td>2918523</td>\n",
       "      <td>11187296</td>\n",
       "      <td>26.087832</td>\n",
       "    </tr>\n",
       "    <tr>\n",
       "      <th>2016</th>\n",
       "      <td>3328129</td>\n",
       "      <td>11449222</td>\n",
       "      <td>29.068604</td>\n",
       "    </tr>\n",
       "    <tr>\n",
       "      <th>2017</th>\n",
       "      <td>3688279</td>\n",
       "      <td>11589194</td>\n",
       "      <td>31.825155</td>\n",
       "    </tr>\n",
       "    <tr>\n",
       "      <th>2018</th>\n",
       "      <td>4204506</td>\n",
       "      <td>12043993</td>\n",
       "      <td>34.909569</td>\n",
       "    </tr>\n",
       "    <tr>\n",
       "      <th>2019</th>\n",
       "      <td>4614682</td>\n",
       "      <td>12350832</td>\n",
       "      <td>37.363329</td>\n",
       "    </tr>\n",
       "  </tbody>\n",
       "</table>\n",
       "</div>"
      ],
      "text/plain": [
       "         afro     total  percentagem\n",
       "2009   581339   6982018     8.326232\n",
       "2010   821908   8337219     9.858299\n",
       "2011  1004558   8961724    11.209428\n",
       "2012  1202579   9565483    12.572068\n",
       "2013  1441478   9929289    14.517434\n",
       "2014  2249419  10793935    20.839657\n",
       "2015  2918523  11187296    26.087832\n",
       "2016  3328129  11449222    29.068604\n",
       "2017  3688279  11589194    31.825155\n",
       "2018  4204506  12043993    34.909569\n",
       "2019  4614682  12350832    37.363329"
      ]
     },
     "execution_count": 52,
     "metadata": {},
     "output_type": "execute_result"
    }
   ],
   "source": [
    "# Tabela com o resumo das análises\n",
    "pd.DataFrame(list(zip(afro,totais,percentis)) ,index=anos,columns =['afro', 'total', \"percentagem\"] )"
   ]
  },
  {
   "cell_type": "markdown",
   "metadata": {},
   "source": [
    "# Há uma entrada constante de alunos afrodescendentes no ensino superior. Mas esses alunos estão entrando em universidades públicas ou privadas?"
   ]
  },
  {
   "cell_type": "markdown",
   "metadata": {},
   "source": [
    "## Primeiramente separarei os dataframes com afrodescendentes em universidades públicas e privadas. Após isso criarei uma lista com os totais para cada uma dessas categorias."
   ]
  },
  {
   "cell_type": "markdown",
   "metadata": {},
   "source": [
    "### Dataframe universidades públicas"
   ]
  },
  {
   "cell_type": "code",
   "execution_count": 53,
   "metadata": {},
   "outputs": [],
   "source": [
    "df_2009_afro_pub = df_2009_afro[df_2009_afro['CO_CATEGORIA_ADMINISTRATIVA'].isin([3, 2,1])]"
   ]
  },
  {
   "cell_type": "code",
   "execution_count": 54,
   "metadata": {},
   "outputs": [],
   "source": [
    "df_2010_afro_pub = df_2010_afro[df_2010_afro['CO_CATEGORIA_ADMINISTRATIVA'].isin([3, 2,1])]"
   ]
  },
  {
   "cell_type": "code",
   "execution_count": 55,
   "metadata": {},
   "outputs": [],
   "source": [
    "df_2011_afro_pub = df_2011_afro[df_2011_afro['CO_CATEGORIA_ADMINISTRATIVA'].isin([3, 2,1])]"
   ]
  },
  {
   "cell_type": "code",
   "execution_count": 56,
   "metadata": {},
   "outputs": [],
   "source": [
    "df_2012_afro_pub = df_2012_afro[df_2012_afro['CO_CATEGORIA_ADMINISTRATIVA'].isin([3, 2,1])]"
   ]
  },
  {
   "cell_type": "code",
   "execution_count": 57,
   "metadata": {},
   "outputs": [],
   "source": [
    "df_2013_afro_pub = df_2013_afro[df_2013_afro['CO_CATEGORIA_ADMINISTRATIVA'].isin([3, 2,1])]"
   ]
  },
  {
   "cell_type": "code",
   "execution_count": 58,
   "metadata": {},
   "outputs": [],
   "source": [
    "df_2014_afro_pub = df_2014_afro[df_2014_afro['CO_CATEGORIA_ADMINISTRATIVA'].isin([3, 2,1])]"
   ]
  },
  {
   "cell_type": "code",
   "execution_count": 59,
   "metadata": {},
   "outputs": [],
   "source": [
    "df_2015_afro_pub = df_2015_afro[df_2015_afro['CO_CATEGORIA_ADMINISTRATIVA'].isin([3, 2,1])]"
   ]
  },
  {
   "cell_type": "code",
   "execution_count": 60,
   "metadata": {},
   "outputs": [],
   "source": [
    "df_2016_afro_pub = df_2016_afro[df_2016_afro['CO_CATEGORIA_ADMINISTRATIVA'].isin([3, 2,1])]"
   ]
  },
  {
   "cell_type": "code",
   "execution_count": 61,
   "metadata": {},
   "outputs": [],
   "source": [
    "df_2017_afro_pub = df_2017_afro[df_2017_afro['TP_CATEGORIA_ADMINISTRATIVA'].isin([3, 2,1])]\n",
    "df_2018_afro_pub = df_2018_afro[df_2018_afro['TP_CATEGORIA_ADMINISTRATIVA'].isin([3, 2,1])]\n",
    "df_2019_afro_pub = df_2019_afro[df_2019_afro['TP_CATEGORIA_ADMINISTRATIVA'].isin([3, 2,1])]"
   ]
  },
  {
   "cell_type": "code",
   "execution_count": 62,
   "metadata": {},
   "outputs": [
    {
     "name": "stderr",
     "output_type": "stream",
     "text": [
      "/home/leandro/anaconda3/lib/python3.8/site-packages/dask/core.py:121: DtypeWarning: Columns (13) have mixed types.Specify dtype option on import or set low_memory=False.\n",
      "  return func(*(_execute_task(a, cache) for a in args))\n",
      "/home/leandro/anaconda3/lib/python3.8/site-packages/dask/core.py:121: DtypeWarning: Columns (10) have mixed types.Specify dtype option on import or set low_memory=False.\n",
      "  return func(*(_execute_task(a, cache) for a in args))\n",
      "/home/leandro/anaconda3/lib/python3.8/site-packages/dask/core.py:121: DtypeWarning: Columns (10) have mixed types.Specify dtype option on import or set low_memory=False.\n",
      "  return func(*(_execute_task(a, cache) for a in args))\n"
     ]
    }
   ],
   "source": [
    "afro_pub = [len(df_2009_afro_pub.index),len(df_2010_afro_pub.index),len(df_2011_afro_pub.index),\n",
    "            len(df_2012_afro_pub.index),len(df_2013_afro_pub.index),len(df_2014_afro_pub.index),\n",
    "            len(df_2015_afro_pub.index),len(df_2016_afro_pub.index),\n",
    "        len(df_2017_afro_pub.index),len(df_2018_afro_pub.index),len(df_2019_afro_pub.index)]"
   ]
  },
  {
   "cell_type": "markdown",
   "metadata": {},
   "source": [
    "### Dataframe universidades privadas"
   ]
  },
  {
   "cell_type": "code",
   "execution_count": 63,
   "metadata": {},
   "outputs": [],
   "source": [
    "df_2009_afro_pri = df_2009_afro[df_2009_afro['CO_CATEGORIA_ADMINISTRATIVA'].isin([4,5,6,7,8,9])]"
   ]
  },
  {
   "cell_type": "code",
   "execution_count": 64,
   "metadata": {},
   "outputs": [],
   "source": [
    "df_2010_afro_pri = df_2010_afro[df_2010_afro['CO_CATEGORIA_ADMINISTRATIVA'].isin([4,5,6,7,8,9])]\n",
    "\n",
    "df_2011_afro_pri = df_2011_afro[df_2011_afro['CO_CATEGORIA_ADMINISTRATIVA'].isin([4,5,6,7,8,9])]\n",
    "\n",
    "df_2012_afro_pri = df_2012_afro[df_2012_afro['CO_CATEGORIA_ADMINISTRATIVA'].isin([4,5,6,7,8,9])]\n",
    "\n",
    "df_2013_afro_pri = df_2013_afro[df_2013_afro['CO_CATEGORIA_ADMINISTRATIVA'].isin([4,5,6,7,8,9])]\n",
    "\n",
    "df_2014_afro_pri = df_2014_afro[df_2014_afro['CO_CATEGORIA_ADMINISTRATIVA'].isin([4,5,6,7,8,9])]\n",
    "\n",
    "df_2015_afro_pri = df_2015_afro[df_2015_afro['CO_CATEGORIA_ADMINISTRATIVA'].isin([4,5,6,7,8,9])]\n",
    "\n",
    "df_2016_afro_pri = df_2016_afro[df_2016_afro['CO_CATEGORIA_ADMINISTRATIVA'].isin([4,5,6,7,8,9])]"
   ]
  },
  {
   "cell_type": "code",
   "execution_count": 65,
   "metadata": {},
   "outputs": [],
   "source": [
    "df_2017_afro_pri = df_2017_afro[df_2017_afro['TP_CATEGORIA_ADMINISTRATIVA'].isin([4,5,6,7,8,9])]\n",
    "df_2018_afro_pri = df_2018_afro[df_2018_afro['TP_CATEGORIA_ADMINISTRATIVA'].isin([4,5,6,7,8,9])]\n",
    "df_2019_afro_pri = df_2019_afro[df_2019_afro['TP_CATEGORIA_ADMINISTRATIVA'].isin([4,5,6,7,8,9])]"
   ]
  },
  {
   "cell_type": "code",
   "execution_count": 66,
   "metadata": {},
   "outputs": [
    {
     "name": "stderr",
     "output_type": "stream",
     "text": [
      "/home/leandro/anaconda3/lib/python3.8/site-packages/dask/core.py:121: DtypeWarning: Columns (13) have mixed types.Specify dtype option on import or set low_memory=False.\n",
      "  return func(*(_execute_task(a, cache) for a in args))\n",
      "/home/leandro/anaconda3/lib/python3.8/site-packages/dask/core.py:121: DtypeWarning: Columns (10) have mixed types.Specify dtype option on import or set low_memory=False.\n",
      "  return func(*(_execute_task(a, cache) for a in args))\n",
      "/home/leandro/anaconda3/lib/python3.8/site-packages/dask/core.py:121: DtypeWarning: Columns (10) have mixed types.Specify dtype option on import or set low_memory=False.\n",
      "  return func(*(_execute_task(a, cache) for a in args))\n"
     ]
    }
   ],
   "source": [
    "afro_pri = [len(df_2009_afro_pri.index),len(df_2010_afro_pri.index),len(df_2011_afro_pri.index),\n",
    "            len(df_2012_afro_pri.index),len(df_2013_afro_pri.index),len(df_2014_afro_pri.index),\n",
    "            len(df_2015_afro_pri.index),len(df_2016_afro_pri.index),\n",
    "        len(df_2017_afro_pri.index),len(df_2018_afro_pri.index),len(df_2019_afro_pri.index)]"
   ]
  },
  {
   "cell_type": "code",
   "execution_count": 67,
   "metadata": {},
   "outputs": [
    {
     "data": {
      "image/png": "[encoded data removed]",
      "text/plain": [
       "<Figure size 1440x1152 with 1 Axes>"
      ]
     },
     "metadata": {
      "needs_background": "light"
     },
     "output_type": "display_data"
    }
   ],
   "source": [
    "fig, ax = plt.subplots(figsize=(20,16))\n",
    "plt.title(\"Número absoluto de afrodescentes no ensino superior público e privado por ano\", fontsize= 20, fontweight='bold')\n",
    "plt.xticks(anos, fontsize =12)\n",
    "#plt.yticks(afro, fontsize=12)\n",
    "ax.yaxis.get_major_formatter().set_scientific(False)\n",
    "x = np.arange(len(anos))\n",
    "width = 0.35 \n",
    "\n",
    "rects1 = ax.bar(x - width/2, afro_pub, width, label='Público')\n",
    "rects2 = ax.bar(x + width/2, afro_pri, width, label='Privado')\n",
    "\n",
    "\n",
    "ax.legend(loc='upper left', fontsize = 16)\n",
    "\n",
    "\n",
    "\n",
    "\n",
    "plt.show()"
   ]
  },
  {
   "cell_type": "code",
   "execution_count": 68,
   "metadata": {},
   "outputs": [
    {
     "data": {
      "text/html": [
       "<div>\n",
       "<style scoped>\n",
       "    .dataframe tbody tr th:only-of-type {\n",
       "        vertical-align: middle;\n",
       "    }\n",
       "\n",
       "    .dataframe tbody tr th {\n",
       "        vertical-align: top;\n",
       "    }\n",
       "\n",
       "    .dataframe thead th {\n",
       "        text-align: right;\n",
       "    }\n",
       "</style>\n",
       "<table border=\"1\" class=\"dataframe\">\n",
       "  <thead>\n",
       "    <tr style=\"text-align: right;\">\n",
       "      <th></th>\n",
       "      <th>afrodescendentes em universidades públicas</th>\n",
       "      <th>afrodescendentes em universidades privadas</th>\n",
       "      <th>total</th>\n",
       "    </tr>\n",
       "  </thead>\n",
       "  <tbody>\n",
       "    <tr>\n",
       "      <th>2009</th>\n",
       "      <td>212737</td>\n",
       "      <td>368602</td>\n",
       "      <td>6982018</td>\n",
       "    </tr>\n",
       "    <tr>\n",
       "      <th>2010</th>\n",
       "      <td>283316</td>\n",
       "      <td>538592</td>\n",
       "      <td>8337219</td>\n",
       "    </tr>\n",
       "    <tr>\n",
       "      <th>2011</th>\n",
       "      <td>337967</td>\n",
       "      <td>666591</td>\n",
       "      <td>8961724</td>\n",
       "    </tr>\n",
       "    <tr>\n",
       "      <th>2012</th>\n",
       "      <td>388433</td>\n",
       "      <td>814146</td>\n",
       "      <td>9565483</td>\n",
       "    </tr>\n",
       "    <tr>\n",
       "      <th>2013</th>\n",
       "      <td>463959</td>\n",
       "      <td>977519</td>\n",
       "      <td>9929289</td>\n",
       "    </tr>\n",
       "    <tr>\n",
       "      <th>2014</th>\n",
       "      <td>628599</td>\n",
       "      <td>1620820</td>\n",
       "      <td>10793935</td>\n",
       "    </tr>\n",
       "    <tr>\n",
       "      <th>2015</th>\n",
       "      <td>738792</td>\n",
       "      <td>2179731</td>\n",
       "      <td>11187296</td>\n",
       "    </tr>\n",
       "    <tr>\n",
       "      <th>2016</th>\n",
       "      <td>852717</td>\n",
       "      <td>2475412</td>\n",
       "      <td>11449222</td>\n",
       "    </tr>\n",
       "    <tr>\n",
       "      <th>2017</th>\n",
       "      <td>981823</td>\n",
       "      <td>2706456</td>\n",
       "      <td>11589194</td>\n",
       "    </tr>\n",
       "    <tr>\n",
       "      <th>2018</th>\n",
       "      <td>1045183</td>\n",
       "      <td>3159323</td>\n",
       "      <td>12043993</td>\n",
       "    </tr>\n",
       "    <tr>\n",
       "      <th>2019</th>\n",
       "      <td>1095536</td>\n",
       "      <td>3519146</td>\n",
       "      <td>12350832</td>\n",
       "    </tr>\n",
       "  </tbody>\n",
       "</table>\n",
       "</div>"
      ],
      "text/plain": [
       "      afrodescendentes em universidades públicas  \\\n",
       "2009                                      212737   \n",
       "2010                                      283316   \n",
       "2011                                      337967   \n",
       "2012                                      388433   \n",
       "2013                                      463959   \n",
       "2014                                      628599   \n",
       "2015                                      738792   \n",
       "2016                                      852717   \n",
       "2017                                      981823   \n",
       "2018                                     1045183   \n",
       "2019                                     1095536   \n",
       "\n",
       "      afrodescendentes em universidades privadas     total  \n",
       "2009                                      368602   6982018  \n",
       "2010                                      538592   8337219  \n",
       "2011                                      666591   8961724  \n",
       "2012                                      814146   9565483  \n",
       "2013                                      977519   9929289  \n",
       "2014                                     1620820  10793935  \n",
       "2015                                     2179731  11187296  \n",
       "2016                                     2475412  11449222  \n",
       "2017                                     2706456  11589194  \n",
       "2018                                     3159323  12043993  \n",
       "2019                                     3519146  12350832  "
      ]
     },
     "execution_count": 68,
     "metadata": {},
     "output_type": "execute_result"
    }
   ],
   "source": [
    "pd.DataFrame(list(zip(afro_pub,afro_pri,totais)) ,index=anos,columns =['afrodescendentes em universidades públicas', 'afrodescendentes em universidades privadas','total'] )"
   ]
  },
  {
   "cell_type": "code",
   "execution_count": 69,
   "metadata": {},
   "outputs": [],
   "source": [
    "pub = afro_pub[10]/afro_pub[0] * 100\n",
    "pri = afro_pri[10]/afro_pri[0] * 100"
   ]
  },
  {
   "cell_type": "code",
   "execution_count": 70,
   "metadata": {},
   "outputs": [
    {
     "data": {
      "text/plain": [
       "(514.9720076902466, 954.7278636578205)"
      ]
     },
     "execution_count": 70,
     "metadata": {},
     "output_type": "execute_result"
    }
   ],
   "source": [
    "pub,pri"
   ]
  },
  {
   "cell_type": "markdown",
   "metadata": {},
   "source": [
    "# Fica claro que há uma crescente tanto de alunos afrodescendentes em universidades privadas e públicas.\n",
    "# Apesar disso, o crescimento relativo entre 2009 e 209 nas universidades privadas é muito maior do que nas públicas: 954% ante 514%"
   ]
  },
  {
   "cell_type": "markdown",
   "metadata": {},
   "source": [
    "## Essa diferença poderia advir de estudantes que não terminam os cursos. Assim vamos analisar os alunos ingressantes:"
   ]
  },
  {
   "cell_type": "code",
   "execution_count": 71,
   "metadata": {},
   "outputs": [],
   "source": [
    "df_2009_afro_ing = df_2009_afro[df_2009_afro['IN_INGRESSO'].isin([1])]\n",
    "df_2010_afro_ing = df_2010_afro[df_2010_afro['IN_INGRESSO'].isin([1])]"
   ]
  },
  {
   "cell_type": "code",
   "execution_count": 72,
   "metadata": {
    "scrolled": true
   },
   "outputs": [],
   "source": [
    "\n",
    "\n",
    "df_2011_afro_ing = df_2011_afro[df_2011_afro['IN_INGRESSO_TOTAL'].isin([1])]\n",
    "\n",
    "df_2012_afro_ing = df_2012_afro[df_2012_afro['IN_INGRESSO_TOTAL'].isin([1])]\n",
    "\n",
    "df_2013_afro_ing = df_2013_afro[df_2013_afro['IN_INGRESSO_TOTAL'].isin([1])]\n",
    "\n",
    "df_2014_afro_ing = df_2014_afro[df_2014_afro['IN_INGRESSO_TOTAL'].isin([1])]\n",
    "\n",
    "df_2015_afro_ing = df_2015_afro[df_2015_afro['IN_INGRESSO_TOTAL'].isin([1])]\n",
    "\n",
    "df_2016_afro_ing = df_2016_afro[df_2016_afro['IN_INGRESSO_TOTAL'].isin([1])]\n",
    "\n",
    "df_2017_afro_ing = df_2017_afro[df_2017_afro['IN_INGRESSO_TOTAL'].isin([1])]\n",
    "df_2018_afro_ing = df_2018_afro[df_2018_afro['IN_INGRESSO_TOTAL'].isin([1])]\n",
    "df_2019_afro_ing = df_2019_afro[df_2019_afro['IN_INGRESSO_TOTAL'].isin([1])]"
   ]
  },
  {
   "cell_type": "code",
   "execution_count": 73,
   "metadata": {},
   "outputs": [
    {
     "name": "stderr",
     "output_type": "stream",
     "text": [
      "/home/leandro/anaconda3/lib/python3.8/site-packages/dask/core.py:121: DtypeWarning: Columns (13) have mixed types.Specify dtype option on import or set low_memory=False.\n",
      "  return func(*(_execute_task(a, cache) for a in args))\n",
      "/home/leandro/anaconda3/lib/python3.8/site-packages/dask/core.py:121: DtypeWarning: Columns (10) have mixed types.Specify dtype option on import or set low_memory=False.\n",
      "  return func(*(_execute_task(a, cache) for a in args))\n",
      "/home/leandro/anaconda3/lib/python3.8/site-packages/dask/core.py:121: DtypeWarning: Columns (10) have mixed types.Specify dtype option on import or set low_memory=False.\n",
      "  return func(*(_execute_task(a, cache) for a in args))\n"
     ]
    }
   ],
   "source": [
    "afro_ing = [len(df_2009_afro_ing.index),len(df_2010_afro_ing.index),len(df_2011_afro_ing.index),\n",
    "            len(df_2012_afro_ing.index),len(df_2013_afro_ing.index),len(df_2014_afro_ing.index),\n",
    "            len(df_2015_afro_ing.index),len(df_2016_afro_ing.index),\n",
    "        len(df_2017_afro_ing.index),len(df_2018_afro_ing.index),len(df_2019_afro_ing.index)]"
   ]
  },
  {
   "cell_type": "code",
   "execution_count": 74,
   "metadata": {},
   "outputs": [
    {
     "data": {
      "image/png": "[encoded data removed]",
      "text/plain": [
       "<Figure size 1440x1152 with 1 Axes>"
      ]
     },
     "metadata": {
      "needs_background": "light"
     },
     "output_type": "display_data"
    }
   ],
   "source": [
    "fig, ax = plt.subplots(figsize=(20,16))\n",
    "plt.title(\"Número total de alunos afrodescendentes ingressantes no ensino superior por ano\", fontsize= 18)\n",
    "\n",
    "plt.xticks(anos, fontsize =12)\n",
    "plt.ylabel(\"Número absoluto de afrodescendentes (em notação científica [/1000000])\", fontsize=12, labelpad=30)\n",
    "plt.plot(anos,afro_ing)\n",
    "plt.show()\n",
    "\n",
    "\n"
   ]
  },
  {
   "cell_type": "markdown",
   "metadata": {},
   "source": [
    "# Vemos então que há realmente uma maior entrada de alunos afrodescendentes no ensino superior, principalmente no setor privado. \n",
    "# Esse aumento de alunos no setor privado provavelmente é explicado pelas políticas públicas de financiamento estudantil.\n",
    "# As duas principais são o FIES e o PROUNI, vamos verificar como essas políticas influenciam esse padrão"
   ]
  },
  {
   "cell_type": "code",
   "execution_count": 75,
   "metadata": {},
   "outputs": [],
   "source": [
    "df_2009_afro_fies = df_2009_afro_pri[df_2009_afro_pri['IN_FIES'].isin([1])]\n",
    "df_2010_afro_fies = df_2010_afro_pri[df_2010_afro_pri['IN_FIN_REEMB_FIES'].isin([1])]\n",
    "df_2011_afro_fies = df_2011_afro_pri[df_2011_afro_pri['IN_FIN_REEMB_FIES'].isin([1])]\n",
    "df_2012_afro_fies = df_2012_afro_pri[df_2012_afro_pri['IN_FIN_REEMB_FIES'].isin([1])]\n",
    "df_2013_afro_fies = df_2013_afro_pri[df_2013_afro_pri['IN_FIN_REEMB_FIES'].isin([1])]\n",
    "df_2014_afro_fies = df_2014_afro_pri[df_2014_afro_pri['IN_FIN_REEMB_FIES'].isin([1])]\n",
    "df_2015_afro_fies = df_2015_afro_pri[df_2015_afro_pri['IN_FIN_REEMB_FIES'].isin([1])]\n",
    "df_2016_afro_fies = df_2016_afro_pri[df_2016_afro_pri['IN_FIN_REEMB_FIES'].isin([1])]\n",
    "df_2017_afro_fies = df_2017_afro_pri[df_2017_afro_pri['IN_FIN_REEMB_FIES'].isin([1])]\n",
    "df_2018_afro_fies = df_2018_afro_pri[df_2018_afro_pri['IN_FIN_REEMB_FIES'].isin([1])]\n",
    "df_2019_afro_fies = df_2019_afro_pri[df_2019_afro_pri['IN_FIN_REEMB_FIES'].isin([1])]"
   ]
  },
  {
   "cell_type": "code",
   "execution_count": 76,
   "metadata": {},
   "outputs": [
    {
     "name": "stderr",
     "output_type": "stream",
     "text": [
      "/home/leandro/anaconda3/lib/python3.8/site-packages/dask/core.py:121: DtypeWarning: Columns (13) have mixed types.Specify dtype option on import or set low_memory=False.\n",
      "  return func(*(_execute_task(a, cache) for a in args))\n",
      "/home/leandro/anaconda3/lib/python3.8/site-packages/dask/core.py:121: DtypeWarning: Columns (10) have mixed types.Specify dtype option on import or set low_memory=False.\n",
      "  return func(*(_execute_task(a, cache) for a in args))\n",
      "/home/leandro/anaconda3/lib/python3.8/site-packages/dask/core.py:121: DtypeWarning: Columns (10) have mixed types.Specify dtype option on import or set low_memory=False.\n",
      "  return func(*(_execute_task(a, cache) for a in args))\n"
     ]
    }
   ],
   "source": [
    "afro_fies = [len(df_2009_afro_fies.index),len(df_2010_afro_fies.index),len(df_2011_afro_fies.index),\n",
    "            len(df_2012_afro_fies.index),len(df_2013_afro_fies.index),len(df_2014_afro_fies.index),\n",
    "            len(df_2015_afro_fies.index),len(df_2016_afro_fies.index),\n",
    "        len(df_2017_afro_fies.index),len(df_2018_afro_fies.index),len(df_2019_afro_fies.index)]"
   ]
  },
  {
   "cell_type": "code",
   "execution_count": 77,
   "metadata": {},
   "outputs": [
    {
     "data": {
      "image/png": "[encoded data removed]",
      "text/plain": [
       "<Figure size 1440x1152 with 1 Axes>"
      ]
     },
     "metadata": {
      "needs_background": "light"
     },
     "output_type": "display_data"
    }
   ],
   "source": [
    "fig, ax = plt.subplots(figsize=(20,16))\n",
    "plt.title(\"Número total de alunos no ensino superior privado que receberam FIES por ano\", fontsize= 18)\n",
    "plt.xticks(anos, fontsize =12)\n",
    "plt.yticks(afro_fies, fontsize=12)\n",
    "plt.bar(anos,afro_fies)\n",
    "plt.show()"
   ]
  },
  {
   "cell_type": "code",
   "execution_count": 78,
   "metadata": {},
   "outputs": [],
   "source": [
    "df_2009_afro_pro = df_2009_afro_pri[df_2009_afro_pri['IN_PROUNI_INTEGRAL'].isin([1]) | df_2009_afro_pri['IN_PROUNI_PARCIAL'].isin([1])]\n",
    "df_2010_afro_pro = df_2010_afro_pri[df_2010_afro_pri['IN_FIN_NAOREEMB_PROUNI_INTEGR'].isin([1]) | df_2010_afro_pri['IN_FIN_NAOREEMB_PROUNI_PARCIAL'].isin([1])]\n",
    "df_2011_afro_pro = df_2011_afro_pri[df_2011_afro_pri['IN_FIN_NAOREEMB_PROUNI_INTEGR'].isin([1]) | df_2011_afro_pri['IN_FIN_NAOREEMB_PROUNI_PARCIAL'].isin([1])]\n",
    "df_2012_afro_pro = df_2012_afro_pri[df_2012_afro_pri['IN_FIN_NAOREEMB_PROUNI_INTEGR'].isin([1]) | df_2012_afro_pri['IN_FIN_NAOREEMB_PROUNI_PARCIAL'].isin([1])]\n",
    "df_2013_afro_pro = df_2013_afro_pri[df_2013_afro_pri['IN_FIN_NAOREEMB_PROUNI_INTEGR'].isin([1]) | df_2013_afro_pri['IN_FIN_NAOREEMB_PROUNI_PARCIAL'].isin([1])]\n",
    "df_2014_afro_pro = df_2014_afro_pri[df_2014_afro_pri['IN_FIN_NAOREEMB_PROUNI_INTEGR'].isin([1]) | df_2014_afro_pri['IN_FIN_NAOREEMB_PROUNI_PARCIAL'].isin([1])]\n",
    "df_2015_afro_pro = df_2015_afro_pri[df_2015_afro_pri['IN_FIN_NAOREEMB_PROUNI_INTEGR'].isin([1]) | df_2015_afro_pri['IN_FIN_NAOREEMB_PROUNI_PARCIAL'].isin([1])]\n",
    "df_2016_afro_pro = df_2016_afro_pri[df_2016_afro_pri['IN_FIN_NAOREEMB_PROUNI_INTEGR'].isin([1]) | df_2016_afro_pri['IN_FIN_NAOREEMB_PROUNI_PARCIAL'].isin([1])]\n",
    "df_2017_afro_pro = df_2017_afro_pri[df_2017_afro_pri['IN_FIN_NAOREEMB_PROUNI_INTEGR'].isin([1]) | df_2017_afro_pri['IN_FIN_NAOREEMB_PROUNI_PARCIAL'].isin([1])]\n",
    "df_2018_afro_pro = df_2018_afro_pri[df_2018_afro_pri['IN_FIN_NAOREEMB_PROUNI_INTEGR'].isin([1]) | df_2018_afro_pri['IN_FIN_NAOREEMB_PROUNI_PARCIAL'].isin([1])]\n",
    "df_2019_afro_pro = df_2019_afro_pri[df_2019_afro_pri['IN_FIN_NAOREEMB_PROUNI_INTEGR'].isin([1]) | df_2019_afro_pri['IN_FIN_NAOREEMB_PROUNI_PARCIAL'].isin([1])]"
   ]
  },
  {
   "cell_type": "code",
   "execution_count": 79,
   "metadata": {},
   "outputs": [
    {
     "name": "stderr",
     "output_type": "stream",
     "text": [
      "/home/leandro/anaconda3/lib/python3.8/site-packages/dask/core.py:121: DtypeWarning: Columns (13) have mixed types.Specify dtype option on import or set low_memory=False.\n",
      "  return func(*(_execute_task(a, cache) for a in args))\n",
      "/home/leandro/anaconda3/lib/python3.8/site-packages/dask/core.py:121: DtypeWarning: Columns (10) have mixed types.Specify dtype option on import or set low_memory=False.\n",
      "  return func(*(_execute_task(a, cache) for a in args))\n",
      "/home/leandro/anaconda3/lib/python3.8/site-packages/dask/core.py:121: DtypeWarning: Columns (10) have mixed types.Specify dtype option on import or set low_memory=False.\n",
      "  return func(*(_execute_task(a, cache) for a in args))\n"
     ]
    }
   ],
   "source": [
    "afro_pro = [len(df_2009_afro_pro.index),len(df_2010_afro_pro.index),len(df_2011_afro_pro.index),\n",
    "            len(df_2012_afro_pro.index),len(df_2013_afro_pro.index),len(df_2014_afro_pro.index),\n",
    "            len(df_2015_afro_pro.index),len(df_2016_afro_pro.index),\n",
    "        len(df_2017_afro_pro.index),len(df_2018_afro_pro.index),len(df_2019_afro_pro.index)]"
   ]
  },
  {
   "cell_type": "code",
   "execution_count": 80,
   "metadata": {},
   "outputs": [
    {
     "data": {
      "image/png": "[encoded data removed]",
      "text/plain": [
       "<Figure size 1440x1152 with 1 Axes>"
      ]
     },
     "metadata": {
      "needs_background": "light"
     },
     "output_type": "display_data"
    }
   ],
   "source": [
    "fig, ax = plt.subplots(figsize=(20,16))\n",
    "plt.title(\"Número total de alunos no ensino superior privado que receberam PROUNI por ano\", fontsize= 18)\n",
    "plt.xticks(anos, fontsize =12)\n",
    "plt.yticks(afro_pro, fontsize=12)\n",
    "plt.bar(anos,afro_pro)\n",
    "plt.show()"
   ]
  },
  {
   "cell_type": "code",
   "execution_count": 81,
   "metadata": {},
   "outputs": [],
   "source": [
    "dif = [(a - b) for a,b in zip(afro_fies,afro_pro)]"
   ]
  },
  {
   "cell_type": "code",
   "execution_count": 82,
   "metadata": {},
   "outputs": [
    {
     "data": {
      "text/html": [
       "<div>\n",
       "<style scoped>\n",
       "    .dataframe tbody tr th:only-of-type {\n",
       "        vertical-align: middle;\n",
       "    }\n",
       "\n",
       "    .dataframe tbody tr th {\n",
       "        vertical-align: top;\n",
       "    }\n",
       "\n",
       "    .dataframe thead th {\n",
       "        text-align: right;\n",
       "    }\n",
       "</style>\n",
       "<table border=\"1\" class=\"dataframe\">\n",
       "  <thead>\n",
       "    <tr style=\"text-align: right;\">\n",
       "      <th></th>\n",
       "      <th>afrodescendentes com FIES</th>\n",
       "      <th>afrodescendentes com PROUNI</th>\n",
       "      <th>diferenca</th>\n",
       "    </tr>\n",
       "  </thead>\n",
       "  <tbody>\n",
       "    <tr>\n",
       "      <th>2009</th>\n",
       "      <td>13079</td>\n",
       "      <td>39608</td>\n",
       "      <td>-26529</td>\n",
       "    </tr>\n",
       "    <tr>\n",
       "      <th>2010</th>\n",
       "      <td>19493</td>\n",
       "      <td>54314</td>\n",
       "      <td>-34821</td>\n",
       "    </tr>\n",
       "    <tr>\n",
       "      <th>2011</th>\n",
       "      <td>32647</td>\n",
       "      <td>57846</td>\n",
       "      <td>-25199</td>\n",
       "    </tr>\n",
       "    <tr>\n",
       "      <th>2012</th>\n",
       "      <td>77622</td>\n",
       "      <td>68022</td>\n",
       "      <td>9600</td>\n",
       "    </tr>\n",
       "    <tr>\n",
       "      <th>2013</th>\n",
       "      <td>179659</td>\n",
       "      <td>77827</td>\n",
       "      <td>101832</td>\n",
       "    </tr>\n",
       "    <tr>\n",
       "      <th>2014</th>\n",
       "      <td>375884</td>\n",
       "      <td>131095</td>\n",
       "      <td>244789</td>\n",
       "    </tr>\n",
       "    <tr>\n",
       "      <th>2015</th>\n",
       "      <td>476279</td>\n",
       "      <td>177351</td>\n",
       "      <td>298928</td>\n",
       "    </tr>\n",
       "    <tr>\n",
       "      <th>2016</th>\n",
       "      <td>479198</td>\n",
       "      <td>224733</td>\n",
       "      <td>254465</td>\n",
       "    </tr>\n",
       "    <tr>\n",
       "      <th>2017</th>\n",
       "      <td>440880</td>\n",
       "      <td>252534</td>\n",
       "      <td>188346</td>\n",
       "    </tr>\n",
       "    <tr>\n",
       "      <th>2018</th>\n",
       "      <td>373189</td>\n",
       "      <td>264531</td>\n",
       "      <td>108658</td>\n",
       "    </tr>\n",
       "    <tr>\n",
       "      <th>2019</th>\n",
       "      <td>281999</td>\n",
       "      <td>297360</td>\n",
       "      <td>-15361</td>\n",
       "    </tr>\n",
       "  </tbody>\n",
       "</table>\n",
       "</div>"
      ],
      "text/plain": [
       "      afrodescendentes com FIES  afrodescendentes com PROUNI  diferenca\n",
       "2009                      13079                        39608     -26529\n",
       "2010                      19493                        54314     -34821\n",
       "2011                      32647                        57846     -25199\n",
       "2012                      77622                        68022       9600\n",
       "2013                     179659                        77827     101832\n",
       "2014                     375884                       131095     244789\n",
       "2015                     476279                       177351     298928\n",
       "2016                     479198                       224733     254465\n",
       "2017                     440880                       252534     188346\n",
       "2018                     373189                       264531     108658\n",
       "2019                     281999                       297360     -15361"
      ]
     },
     "execution_count": 82,
     "metadata": {},
     "output_type": "execute_result"
    }
   ],
   "source": [
    "pd.DataFrame(list(zip(afro_fies,afro_pro,dif)) ,index=anos,columns =['afrodescendentes com FIES', 'afrodescendentes com PROUNI','diferenca'] )"
   ]
  },
  {
   "cell_type": "markdown",
   "metadata": {},
   "source": [
    "# O Aumento de estudantes afrodescendentes no setor privado claramente tem relação com o aumento dessas políticas públicas.\n",
    "\n",
    "# Mas qual o percentual desses estudantes utilizam esses tipos de financiamento?"
   ]
  },
  {
   "cell_type": "code",
   "execution_count": 83,
   "metadata": {},
   "outputs": [],
   "source": [
    "percentis = [((a+b)/c ) *100 for a,b,c in zip(afro_fies,afro_pro,afro_pri)]"
   ]
  },
  {
   "cell_type": "code",
   "execution_count": 84,
   "metadata": {},
   "outputs": [
    {
     "data": {
      "text/html": [
       "<div>\n",
       "<style scoped>\n",
       "    .dataframe tbody tr th:only-of-type {\n",
       "        vertical-align: middle;\n",
       "    }\n",
       "\n",
       "    .dataframe tbody tr th {\n",
       "        vertical-align: top;\n",
       "    }\n",
       "\n",
       "    .dataframe thead th {\n",
       "        text-align: right;\n",
       "    }\n",
       "</style>\n",
       "<table border=\"1\" class=\"dataframe\">\n",
       "  <thead>\n",
       "    <tr style=\"text-align: right;\">\n",
       "      <th></th>\n",
       "      <th>percentagem de afrodescendentes com FIES ou PROUNI</th>\n",
       "    </tr>\n",
       "  </thead>\n",
       "  <tbody>\n",
       "    <tr>\n",
       "      <th>2009</th>\n",
       "      <td>14.293737</td>\n",
       "    </tr>\n",
       "    <tr>\n",
       "      <th>2010</th>\n",
       "      <td>13.703694</td>\n",
       "    </tr>\n",
       "    <tr>\n",
       "      <th>2011</th>\n",
       "      <td>13.575491</td>\n",
       "    </tr>\n",
       "    <tr>\n",
       "      <th>2012</th>\n",
       "      <td>17.889175</td>\n",
       "    </tr>\n",
       "    <tr>\n",
       "      <th>2013</th>\n",
       "      <td>26.340767</td>\n",
       "    </tr>\n",
       "    <tr>\n",
       "      <th>2014</th>\n",
       "      <td>31.279167</td>\n",
       "    </tr>\n",
       "    <tr>\n",
       "      <th>2015</th>\n",
       "      <td>29.986728</td>\n",
       "    </tr>\n",
       "    <tr>\n",
       "      <th>2016</th>\n",
       "      <td>28.436923</td>\n",
       "    </tr>\n",
       "    <tr>\n",
       "      <th>2017</th>\n",
       "      <td>25.620738</td>\n",
       "    </tr>\n",
       "    <tr>\n",
       "      <th>2018</th>\n",
       "      <td>20.185337</td>\n",
       "    </tr>\n",
       "    <tr>\n",
       "      <th>2019</th>\n",
       "      <td>16.463057</td>\n",
       "    </tr>\n",
       "  </tbody>\n",
       "</table>\n",
       "</div>"
      ],
      "text/plain": [
       "      percentagem de afrodescendentes com FIES ou PROUNI\n",
       "2009                                          14.293737 \n",
       "2010                                          13.703694 \n",
       "2011                                          13.575491 \n",
       "2012                                          17.889175 \n",
       "2013                                          26.340767 \n",
       "2014                                          31.279167 \n",
       "2015                                          29.986728 \n",
       "2016                                          28.436923 \n",
       "2017                                          25.620738 \n",
       "2018                                          20.185337 \n",
       "2019                                          16.463057 "
      ]
     },
     "execution_count": 84,
     "metadata": {},
     "output_type": "execute_result"
    }
   ],
   "source": [
    "pd.DataFrame(zip(percentis) ,index=anos,columns =['percentagem de afrodescendentes com FIES ou PROUNI'] )\n"
   ]
  },
  {
   "cell_type": "markdown",
   "metadata": {},
   "source": [
    "# Uma parte considerável dos afrodescendentes recebe algum desses financiamentos públicos.\n",
    "# Mas a taxa varia entre 31% e 14 %. Qual é então a percentagem de alunos na rede privada que necessita de financiamento ?"
   ]
  },
  {
   "cell_type": "code",
   "execution_count": 85,
   "metadata": {},
   "outputs": [],
   "source": [
    "df_2009_afro_fin = df_2009_afro_pri[df_2009_afro_pri['IN_FINANC_ESTUDANTIL'].isin([1])]\n",
    "df_2010_afro_fin = df_2010_afro_pri[df_2010_afro_pri['IN_FINANC_ESTUDANTIL'].isin([1])] \n",
    "df_2011_afro_fin = df_2011_afro_pri[df_2011_afro_pri['IN_FINANC_ESTUDANTIL'].isin([1])] \n",
    "df_2012_afro_fin = df_2012_afro_pri[df_2012_afro_pri['IN_FINANC_ESTUDANTIL'].isin([1])] \n",
    "df_2013_afro_fin = df_2013_afro_pri[df_2013_afro_pri['IN_FINANC_ESTUDANTIL'].isin([1])] \n",
    "df_2014_afro_fin = df_2014_afro_pri[df_2014_afro_pri['IN_FINANC_ESTUDANTIL'].isin([1])] \n",
    "df_2015_afro_fin = df_2015_afro_pri[df_2015_afro_pri['IN_FINANC_ESTUDANTIL'].isin([1])] \n",
    "df_2016_afro_fin = df_2016_afro_pri[df_2016_afro_pri['IN_FINANC_ESTUDANTIL'].isin([1])] \n",
    "df_2017_afro_fin = df_2017_afro_pri[df_2017_afro_pri['IN_FINANCIAMENTO_ESTUDANTIL'].isin([1])] \n",
    "df_2018_afro_fin = df_2018_afro_pri[df_2018_afro_pri['IN_FINANCIAMENTO_ESTUDANTIL'].isin([1])] \n",
    "df_2019_afro_fin = df_2019_afro_pri[df_2019_afro_pri['IN_FINANCIAMENTO_ESTUDANTIL'].isin([1])] "
   ]
  },
  {
   "cell_type": "code",
   "execution_count": 86,
   "metadata": {},
   "outputs": [
    {
     "name": "stderr",
     "output_type": "stream",
     "text": [
      "/home/leandro/anaconda3/lib/python3.8/site-packages/dask/core.py:121: DtypeWarning: Columns (13) have mixed types.Specify dtype option on import or set low_memory=False.\n",
      "  return func(*(_execute_task(a, cache) for a in args))\n",
      "/home/leandro/anaconda3/lib/python3.8/site-packages/dask/core.py:121: DtypeWarning: Columns (10) have mixed types.Specify dtype option on import or set low_memory=False.\n",
      "  return func(*(_execute_task(a, cache) for a in args))\n",
      "/home/leandro/anaconda3/lib/python3.8/site-packages/dask/core.py:121: DtypeWarning: Columns (10) have mixed types.Specify dtype option on import or set low_memory=False.\n",
      "  return func(*(_execute_task(a, cache) for a in args))\n"
     ]
    }
   ],
   "source": [
    "afro_fin = [len(df_2009_afro_fin.index),len(df_2010_afro_fin.index),len(df_2011_afro_fin.index),\n",
    "            len(df_2012_afro_fin.index),len(df_2013_afro_fin.index),len(df_2014_afro_fin.index),\n",
    "            len(df_2015_afro_fin.index),len(df_2016_afro_fin.index),\n",
    "        len(df_2017_afro_fin.index),len(df_2018_afro_fin.index),len(df_2019_afro_fin.index)]"
   ]
  },
  {
   "cell_type": "code",
   "execution_count": 87,
   "metadata": {},
   "outputs": [],
   "source": [
    "percentis = [a/b *100 for a,b in zip(afro_fin,afro_pri)]"
   ]
  },
  {
   "cell_type": "code",
   "execution_count": 88,
   "metadata": {},
   "outputs": [
    {
     "data": {
      "text/html": [
       "<div>\n",
       "<style scoped>\n",
       "    .dataframe tbody tr th:only-of-type {\n",
       "        vertical-align: middle;\n",
       "    }\n",
       "\n",
       "    .dataframe tbody tr th {\n",
       "        vertical-align: top;\n",
       "    }\n",
       "\n",
       "    .dataframe thead th {\n",
       "        text-align: right;\n",
       "    }\n",
       "</style>\n",
       "<table border=\"1\" class=\"dataframe\">\n",
       "  <thead>\n",
       "    <tr style=\"text-align: right;\">\n",
       "      <th></th>\n",
       "      <th>percentagem de afrodescendentes com financiamento</th>\n",
       "    </tr>\n",
       "  </thead>\n",
       "  <tbody>\n",
       "    <tr>\n",
       "      <th>2009</th>\n",
       "      <td>29.869073</td>\n",
       "    </tr>\n",
       "    <tr>\n",
       "      <th>2010</th>\n",
       "      <td>31.375327</td>\n",
       "    </tr>\n",
       "    <tr>\n",
       "      <th>2011</th>\n",
       "      <td>28.954486</td>\n",
       "    </tr>\n",
       "    <tr>\n",
       "      <th>2012</th>\n",
       "      <td>31.286158</td>\n",
       "    </tr>\n",
       "    <tr>\n",
       "      <th>2013</th>\n",
       "      <td>39.697029</td>\n",
       "    </tr>\n",
       "    <tr>\n",
       "      <th>2014</th>\n",
       "      <td>41.178169</td>\n",
       "    </tr>\n",
       "    <tr>\n",
       "      <th>2015</th>\n",
       "      <td>41.181458</td>\n",
       "    </tr>\n",
       "    <tr>\n",
       "      <th>2016</th>\n",
       "      <td>41.570535</td>\n",
       "    </tr>\n",
       "    <tr>\n",
       "      <th>2017</th>\n",
       "      <td>41.819560</td>\n",
       "    </tr>\n",
       "    <tr>\n",
       "      <th>2018</th>\n",
       "      <td>44.449428</td>\n",
       "    </tr>\n",
       "    <tr>\n",
       "      <th>2019</th>\n",
       "      <td>43.592678</td>\n",
       "    </tr>\n",
       "  </tbody>\n",
       "</table>\n",
       "</div>"
      ],
      "text/plain": [
       "      percentagem de afrodescendentes com financiamento\n",
       "2009                                          29.869073\n",
       "2010                                          31.375327\n",
       "2011                                          28.954486\n",
       "2012                                          31.286158\n",
       "2013                                          39.697029\n",
       "2014                                          41.178169\n",
       "2015                                          41.181458\n",
       "2016                                          41.570535\n",
       "2017                                          41.819560\n",
       "2018                                          44.449428\n",
       "2019                                          43.592678"
      ]
     },
     "execution_count": 88,
     "metadata": {},
     "output_type": "execute_result"
    }
   ],
   "source": [
    "pd.DataFrame(zip(percentis) ,index=anos,columns =['percentagem de afrodescendentes com financiamento'] )\n"
   ]
  },
  {
   "cell_type": "markdown",
   "metadata": {},
   "source": [
    "# O percentual de afrodescendentes que recebe financiamento apresenta no geral uma tendência de alta, o que contrasta com a diminuição dos programas federais.\n",
    "# Será que esses estudantes estão recebendo financiamento da própria universidade?"
   ]
  },
  {
   "cell_type": "code",
   "execution_count": 89,
   "metadata": {},
   "outputs": [],
   "source": [
    "df_2009_afro_ies = df_2009_afro_pri[df_2009_afro_pri['IN_FINANC_IES'].isin([1])]\n",
    "df_2010_afro_ies = df_2010_afro_pri[df_2010_afro_pri['IN_FIN_REEMB_PROG_IES'].isin([1])] \n",
    "df_2011_afro_ies = df_2011_afro_pri[df_2011_afro_pri['IN_FIN_REEMB_PROG_IES'].isin([1])] \n",
    "df_2012_afro_ies = df_2012_afro_pri[df_2012_afro_pri['IN_FIN_REEMB_PROG_IES'].isin([1])] \n",
    "df_2013_afro_ies = df_2013_afro_pri[df_2013_afro_pri['IN_FIN_REEMB_PROG_IES'].isin([1])] \n",
    "df_2014_afro_ies = df_2014_afro_pri[df_2014_afro_pri['IN_FIN_REEMB_PROG_IES'].isin([1])] \n",
    "df_2015_afro_ies = df_2015_afro_pri[df_2015_afro_pri['IN_FIN_REEMB_PROG_IES'].isin([1])] \n",
    "df_2016_afro_ies = df_2016_afro_pri[df_2016_afro_pri['IN_FIN_REEMB_PROG_IES'].isin([1])] \n",
    "df_2017_afro_ies = df_2017_afro_pri[df_2017_afro_pri['IN_FIN_REEMB_PROG_IES'].isin([1])] \n",
    "df_2018_afro_ies = df_2018_afro_pri[df_2018_afro_pri['IN_FIN_REEMB_PROG_IES'].isin([1])] \n",
    "df_2019_afro_ies = df_2019_afro_pri[df_2019_afro_pri['IN_FIN_REEMB_PROG_IES'].isin([1])] "
   ]
  },
  {
   "cell_type": "code",
   "execution_count": 90,
   "metadata": {},
   "outputs": [
    {
     "name": "stderr",
     "output_type": "stream",
     "text": [
      "/home/leandro/anaconda3/lib/python3.8/site-packages/dask/core.py:121: DtypeWarning: Columns (13) have mixed types.Specify dtype option on import or set low_memory=False.\n",
      "  return func(*(_execute_task(a, cache) for a in args))\n",
      "/home/leandro/anaconda3/lib/python3.8/site-packages/dask/core.py:121: DtypeWarning: Columns (10) have mixed types.Specify dtype option on import or set low_memory=False.\n",
      "  return func(*(_execute_task(a, cache) for a in args))\n",
      "/home/leandro/anaconda3/lib/python3.8/site-packages/dask/core.py:121: DtypeWarning: Columns (10) have mixed types.Specify dtype option on import or set low_memory=False.\n",
      "  return func(*(_execute_task(a, cache) for a in args))\n"
     ]
    }
   ],
   "source": [
    "afro_ies = [len(df_2009_afro_ies.index),len(df_2010_afro_ies.index),len(df_2011_afro_ies.index),\n",
    "            len(df_2012_afro_ies.index),len(df_2013_afro_ies.index),len(df_2014_afro_ies.index),\n",
    "            len(df_2015_afro_ies.index),len(df_2016_afro_ies.index),\n",
    "        len(df_2017_afro_ies.index),len(df_2018_afro_ies.index),len(df_2019_afro_ies.index)]"
   ]
  },
  {
   "cell_type": "code",
   "execution_count": 184,
   "metadata": {},
   "outputs": [],
   "source": [
    "percentis = [a/b *100 for a,b in zip(afro_ies,afro_pri)]"
   ]
  },
  {
   "cell_type": "code",
   "execution_count": 185,
   "metadata": {},
   "outputs": [
    {
     "data": {
      "text/html": [
       "<div>\n",
       "<style scoped>\n",
       "    .dataframe tbody tr th:only-of-type {\n",
       "        vertical-align: middle;\n",
       "    }\n",
       "\n",
       "    .dataframe tbody tr th {\n",
       "        vertical-align: top;\n",
       "    }\n",
       "\n",
       "    .dataframe thead th {\n",
       "        text-align: right;\n",
       "    }\n",
       "</style>\n",
       "<table border=\"1\" class=\"dataframe\">\n",
       "  <thead>\n",
       "    <tr style=\"text-align: right;\">\n",
       "      <th></th>\n",
       "      <th>percentagem de afrodescendentes com financiamento reembonsável da instituicao</th>\n",
       "    </tr>\n",
       "  </thead>\n",
       "  <tbody>\n",
       "    <tr>\n",
       "      <th>2009</th>\n",
       "      <td>9.008090</td>\n",
       "    </tr>\n",
       "    <tr>\n",
       "      <th>2010</th>\n",
       "      <td>0.865219</td>\n",
       "    </tr>\n",
       "    <tr>\n",
       "      <th>2011</th>\n",
       "      <td>0.790590</td>\n",
       "    </tr>\n",
       "    <tr>\n",
       "      <th>2012</th>\n",
       "      <td>0.636495</td>\n",
       "    </tr>\n",
       "    <tr>\n",
       "      <th>2013</th>\n",
       "      <td>0.791800</td>\n",
       "    </tr>\n",
       "    <tr>\n",
       "      <th>2014</th>\n",
       "      <td>0.369998</td>\n",
       "    </tr>\n",
       "    <tr>\n",
       "      <th>2015</th>\n",
       "      <td>0.465975</td>\n",
       "    </tr>\n",
       "    <tr>\n",
       "      <th>2016</th>\n",
       "      <td>0.696005</td>\n",
       "    </tr>\n",
       "    <tr>\n",
       "      <th>2017</th>\n",
       "      <td>1.108608</td>\n",
       "    </tr>\n",
       "    <tr>\n",
       "      <th>2018</th>\n",
       "      <td>2.524528</td>\n",
       "    </tr>\n",
       "    <tr>\n",
       "      <th>2019</th>\n",
       "      <td>3.816437</td>\n",
       "    </tr>\n",
       "  </tbody>\n",
       "</table>\n",
       "</div>"
      ],
      "text/plain": [
       "      percentagem de afrodescendentes com financiamento reembonsável da instituicao\n",
       "2009                                           9.008090                            \n",
       "2010                                           0.865219                            \n",
       "2011                                           0.790590                            \n",
       "2012                                           0.636495                            \n",
       "2013                                           0.791800                            \n",
       "2014                                           0.369998                            \n",
       "2015                                           0.465975                            \n",
       "2016                                           0.696005                            \n",
       "2017                                           1.108608                            \n",
       "2018                                           2.524528                            \n",
       "2019                                           3.816437                            "
      ]
     },
     "execution_count": 185,
     "metadata": {},
     "output_type": "execute_result"
    }
   ],
   "source": [
    "pd.DataFrame(zip(percentis) ,index=anos,columns =['percentagem de afrodescendentes com financiamento reembonsável da instituicao'] )\n"
   ]
  },
  {
   "cell_type": "code",
   "execution_count": 186,
   "metadata": {},
   "outputs": [
    {
     "data": {
      "text/plain": [
       "Index(['NU_ANO_CENSO', 'CO_IES', 'TP_CATEGORIA_ADMINISTRATIVA',\n",
       "       'TP_ORGANIZACAO_ACADEMICA', 'CO_CURSO', 'CO_CURSO_POLO', 'TP_TURNO',\n",
       "       'TP_GRAU_ACADEMICO', 'TP_MODALIDADE_ENSINO', 'TP_NIVEL_ACADEMICO',\n",
       "       'CO_CINE_ROTULO', 'ID_ALUNO', 'CO_ALUNO_CURSO', 'CO_ALUNO_CURSO_ORIGEM',\n",
       "       'TP_COR_RACA', 'TP_SEXO', 'NU_ANO_NASCIMENTO', 'NU_MES_NASCIMENTO',\n",
       "       'NU_DIA_NASCIMENTO', 'NU_IDADE', 'TP_NACIONALIDADE', 'CO_PAIS_ORIGEM',\n",
       "       'CO_UF_NASCIMENTO', 'CO_MUNICIPIO_NASCIMENTO', 'IN_DEFICIENCIA',\n",
       "       'IN_DEFICIENCIA_AUDITIVA', 'IN_DEFICIENCIA_FISICA',\n",
       "       'IN_DEFICIENCIA_INTELECTUAL', 'IN_DEFICIENCIA_MULTIPLA',\n",
       "       'IN_DEFICIENCIA_SURDEZ', 'IN_DEFICIENCIA_SURDOCEGUEIRA',\n",
       "       'IN_DEFICIENCIA_BAIXA_VISAO', 'IN_DEFICIENCIA_CEGUEIRA',\n",
       "       'IN_DEFICIENCIA_SUPERDOTACAO', 'IN_TGD_AUTISMO',\n",
       "       'IN_TGD_SINDROME_ASPERGER', 'IN_TGD_SINDROME_RETT',\n",
       "       'IN_TGD_TRANSTOR_DESINTEGRATIVO', 'TP_SITUACAO',\n",
       "       'QT_CARGA_HORARIA_TOTAL', 'QT_CARGA_HORARIA_INTEG', 'DT_INGRESSO_CURSO',\n",
       "       'IN_INGRESSO_VESTIBULAR', 'IN_INGRESSO_ENEM',\n",
       "       'IN_INGRESSO_AVALIACAO_SERIADA', 'IN_INGRESSO_SELECAO_SIMPLIFICA',\n",
       "       'IN_INGRESSO_OUTRO_TIPO_SELECAO', 'IN_INGRESSO_VAGA_REMANESC',\n",
       "       'IN_INGRESSO_VAGA_PROG_ESPECIAL', 'IN_INGRESSO_TRANSF_EXOFFICIO',\n",
       "       'IN_INGRESSO_DECISAO_JUDICIAL', 'IN_INGRESSO_CONVENIO_PECG',\n",
       "       'IN_INGRESSO_EGRESSO', 'IN_INGRESSO_OUTRA_FORMA', 'IN_RESERVA_VAGAS',\n",
       "       'IN_RESERVA_ETNICO', 'IN_RESERVA_DEFICIENCIA',\n",
       "       'IN_RESERVA_ENSINO_PUBLICO', 'IN_RESERVA_RENDA_FAMILIAR',\n",
       "       'IN_RESERVA_OUTRA', 'IN_FINANCIAMENTO_ESTUDANTIL', 'IN_FIN_REEMB_FIES',\n",
       "       'IN_FIN_REEMB_ESTADUAL', 'IN_FIN_REEMB_MUNICIPAL',\n",
       "       'IN_FIN_REEMB_PROG_IES', 'IN_FIN_REEMB_ENT_EXTERNA',\n",
       "       'IN_FIN_REEMB_OUTRA', 'IN_FIN_NAOREEMB_PROUNI_INTEGR',\n",
       "       'IN_FIN_NAOREEMB_PROUNI_PARCIAL', 'IN_FIN_NAOREEMB_ESTADUAL',\n",
       "       'IN_FIN_NAOREEMB_MUNICIPAL', 'IN_FIN_NAOREEMB_PROG_IES',\n",
       "       'IN_FIN_NAOREEMB_ENT_EXTERNA', 'IN_FIN_NAOREEMB_OUTRA',\n",
       "       'IN_APOIO_SOCIAL', 'IN_APOIO_ALIMENTACAO', 'IN_APOIO_BOLSA_PERMANENCIA',\n",
       "       'IN_APOIO_BOLSA_TRABALHO', 'IN_APOIO_MATERIAL_DIDATICO',\n",
       "       'IN_APOIO_MORADIA', 'IN_APOIO_TRANSPORTE',\n",
       "       'IN_ATIVIDADE_EXTRACURRICULAR', 'IN_COMPLEMENTAR_ESTAGIO',\n",
       "       'IN_COMPLEMENTAR_EXTENSAO', 'IN_COMPLEMENTAR_MONITORIA',\n",
       "       'IN_COMPLEMENTAR_PESQUISA', 'IN_BOLSA_ESTAGIO', 'IN_BOLSA_EXTENSAO',\n",
       "       'IN_BOLSA_MONITORIA', 'IN_BOLSA_PESQUISA',\n",
       "       'TP_ESCOLA_CONCLUSAO_ENS_MEDIO', 'IN_ALUNO_PARFOR',\n",
       "       'TP_SEMESTRE_CONCLUSAO', 'TP_SEMESTRE_REFERENCIA',\n",
       "       'IN_MOBILIDADE_ACADEMICA', 'TP_MOBILIDADE_ACADEMICA',\n",
       "       'TP_MOBILIDADE_ACADEMICA_INTERN', 'CO_IES_DESTINO', 'CO_PAIS_DESTINO',\n",
       "       'IN_MATRICULA', 'IN_CONCLUINTE', 'IN_INGRESSO_TOTAL',\n",
       "       'IN_INGRESSO_VAGA_NOVA', 'IN_INGRESSO_PROCESSO_SELETIVO',\n",
       "       'NU_ANO_INGRESSO'],\n",
       "      dtype='object')"
      ]
     },
     "execution_count": 186,
     "metadata": {},
     "output_type": "execute_result"
    }
   ],
   "source": [
    "df_2019_afro_pri.columns"
   ]
  },
  {
   "cell_type": "markdown",
   "metadata": {},
   "source": [
    "# Como o financiamento não reembonsável da instuição não explica o financiamento olharemos para o ano mais recente, 2019, para analisar a composição do financiamento."
   ]
  },
  {
   "cell_type": "code",
   "execution_count": 104,
   "metadata": {},
   "outputs": [],
   "source": [
    "financiamentos = ['IN_FIN_REEMB_FIES',\n",
    "       'IN_FIN_REEMB_ESTADUAL', 'IN_FIN_REEMB_MUNICIPAL',\n",
    "       'IN_FIN_REEMB_PROG_IES', 'IN_FIN_REEMB_ENT_EXTERNA',\n",
    "       'IN_FIN_REEMB_OUTRA', 'IN_FIN_NAOREEMB_PROUNI_INTEGR',\n",
    "       'IN_FIN_NAOREEMB_PROUNI_PARCIAL', 'IN_FIN_NAOREEMB_ESTADUAL',\n",
    "       'IN_FIN_NAOREEMB_MUNICIPAL', 'IN_FIN_NAOREEMB_PROG_IES',\n",
    "       'IN_FIN_NAOREEMB_ENT_EXTERNA', 'IN_FIN_NAOREEMB_OUTRA']"
   ]
  },
  {
   "cell_type": "code",
   "execution_count": 113,
   "metadata": {},
   "outputs": [
    {
     "name": "stderr",
     "output_type": "stream",
     "text": [
      "/home/leandro/anaconda3/lib/python3.8/site-packages/dask/core.py:121: DtypeWarning: Columns (10) have mixed types.Specify dtype option on import or set low_memory=False.\n",
      "  return func(*(_execute_task(a, cache) for a in args))\n",
      "/home/leandro/anaconda3/lib/python3.8/site-packages/dask/core.py:121: DtypeWarning: Columns (10) have mixed types.Specify dtype option on import or set low_memory=False.\n",
      "  return func(*(_execute_task(a, cache) for a in args))\n",
      "/home/leandro/anaconda3/lib/python3.8/site-packages/dask/core.py:121: DtypeWarning: Columns (10) have mixed types.Specify dtype option on import or set low_memory=False.\n",
      "  return func(*(_execute_task(a, cache) for a in args))\n",
      "/home/leandro/anaconda3/lib/python3.8/site-packages/dask/core.py:121: DtypeWarning: Columns (10) have mixed types.Specify dtype option on import or set low_memory=False.\n",
      "  return func(*(_execute_task(a, cache) for a in args))\n",
      "/home/leandro/anaconda3/lib/python3.8/site-packages/dask/core.py:121: DtypeWarning: Columns (10) have mixed types.Specify dtype option on import or set low_memory=False.\n",
      "  return func(*(_execute_task(a, cache) for a in args))\n",
      "/home/leandro/anaconda3/lib/python3.8/site-packages/dask/core.py:121: DtypeWarning: Columns (10) have mixed types.Specify dtype option on import or set low_memory=False.\n",
      "  return func(*(_execute_task(a, cache) for a in args))\n",
      "/home/leandro/anaconda3/lib/python3.8/site-packages/dask/core.py:121: DtypeWarning: Columns (10) have mixed types.Specify dtype option on import or set low_memory=False.\n",
      "  return func(*(_execute_task(a, cache) for a in args))\n",
      "/home/leandro/anaconda3/lib/python3.8/site-packages/dask/core.py:121: DtypeWarning: Columns (10) have mixed types.Specify dtype option on import or set low_memory=False.\n",
      "  return func(*(_execute_task(a, cache) for a in args))\n",
      "/home/leandro/anaconda3/lib/python3.8/site-packages/dask/core.py:121: DtypeWarning: Columns (10) have mixed types.Specify dtype option on import or set low_memory=False.\n",
      "  return func(*(_execute_task(a, cache) for a in args))\n",
      "/home/leandro/anaconda3/lib/python3.8/site-packages/dask/core.py:121: DtypeWarning: Columns (10) have mixed types.Specify dtype option on import or set low_memory=False.\n",
      "  return func(*(_execute_task(a, cache) for a in args))\n",
      "/home/leandro/anaconda3/lib/python3.8/site-packages/dask/core.py:121: DtypeWarning: Columns (10) have mixed types.Specify dtype option on import or set low_memory=False.\n",
      "  return func(*(_execute_task(a, cache) for a in args))\n",
      "/home/leandro/anaconda3/lib/python3.8/site-packages/dask/core.py:121: DtypeWarning: Columns (10) have mixed types.Specify dtype option on import or set low_memory=False.\n",
      "  return func(*(_execute_task(a, cache) for a in args))\n",
      "/home/leandro/anaconda3/lib/python3.8/site-packages/dask/core.py:121: DtypeWarning: Columns (10) have mixed types.Specify dtype option on import or set low_memory=False.\n",
      "  return func(*(_execute_task(a, cache) for a in args))\n"
     ]
    }
   ],
   "source": [
    "totais = []\n",
    "for i in financiamentos:\n",
    "    totais.append(df_2019_afro_pri[i].compute().sum())"
   ]
  },
  {
   "cell_type": "code",
   "execution_count": 187,
   "metadata": {},
   "outputs": [],
   "source": [
    "percentis = []\n",
    "for i in totais :\n",
    "    percentis.append(i/sum(totais)*100)"
   ]
  },
  {
   "cell_type": "code",
   "execution_count": 188,
   "metadata": {},
   "outputs": [
    {
     "data": {
      "text/plain": [
       "[16.016646011557018,\n",
       " 0.1166038683177123,\n",
       " 0.1473309471096667,\n",
       " 7.628153501353468,\n",
       " 0.7004183653648457,\n",
       " 0.0,\n",
       " 12.534262680741676,\n",
       " 4.369549635307628,\n",
       " 0.6745758129612611,\n",
       " 0.44710455499124757,\n",
       " 53.92829515261873,\n",
       " 3.437059469676747,\n",
       " 0.0]"
      ]
     },
     "execution_count": 188,
     "metadata": {},
     "output_type": "execute_result"
    }
   ],
   "source": [
    "percentis"
   ]
  },
  {
   "cell_type": "code",
   "execution_count": 189,
   "metadata": {},
   "outputs": [],
   "source": [
    "labels = ['FIES','REEMB_ESTADUAL', 'REEMB_MUNICIPAL','REEMB_IES', 'REEMB_EXTERNA','REEMB_OUTRA', 'PROUNI_INTEGR',\n",
    "'PROUNI_PARCIAL','NAO_REEMB_ESTADUAL','NAO_REEMB_MUNICIPAL', 'NAO_REEMB_IES','NAO_REEMB_EXTERNA', 'NAO_REEMB_OUTRA']\n"
   ]
  },
  {
   "cell_type": "code",
   "execution_count": 190,
   "metadata": {},
   "outputs": [],
   "source": [
    "df = pd.DataFrame(zip(percentis) ,index=labels,columns=['Percentual por tipo de financiamento'] )"
   ]
  },
  {
   "cell_type": "code",
   "execution_count": 191,
   "metadata": {},
   "outputs": [
    {
     "data": {
      "text/html": [
       "<div>\n",
       "<style scoped>\n",
       "    .dataframe tbody tr th:only-of-type {\n",
       "        vertical-align: middle;\n",
       "    }\n",
       "\n",
       "    .dataframe tbody tr th {\n",
       "        vertical-align: top;\n",
       "    }\n",
       "\n",
       "    .dataframe thead th {\n",
       "        text-align: right;\n",
       "    }\n",
       "</style>\n",
       "<table border=\"1\" class=\"dataframe\">\n",
       "  <thead>\n",
       "    <tr style=\"text-align: right;\">\n",
       "      <th></th>\n",
       "      <th>Percentual por tipo de financiamento</th>\n",
       "    </tr>\n",
       "  </thead>\n",
       "  <tbody>\n",
       "    <tr>\n",
       "      <th>FIES</th>\n",
       "      <td>16.016646</td>\n",
       "    </tr>\n",
       "    <tr>\n",
       "      <th>REEMB_ESTADUAL</th>\n",
       "      <td>0.116604</td>\n",
       "    </tr>\n",
       "    <tr>\n",
       "      <th>REEMB_MUNICIPAL</th>\n",
       "      <td>0.147331</td>\n",
       "    </tr>\n",
       "    <tr>\n",
       "      <th>REEMB_IES</th>\n",
       "      <td>7.628154</td>\n",
       "    </tr>\n",
       "    <tr>\n",
       "      <th>REEMB_EXTERNA</th>\n",
       "      <td>0.700418</td>\n",
       "    </tr>\n",
       "    <tr>\n",
       "      <th>REEMB_OUTRA</th>\n",
       "      <td>0.000000</td>\n",
       "    </tr>\n",
       "    <tr>\n",
       "      <th>PROUNI_INTEGR</th>\n",
       "      <td>12.534263</td>\n",
       "    </tr>\n",
       "    <tr>\n",
       "      <th>PROUNI_PARCIAL</th>\n",
       "      <td>4.369550</td>\n",
       "    </tr>\n",
       "    <tr>\n",
       "      <th>NAO_REEMB_ESTADUAL</th>\n",
       "      <td>0.674576</td>\n",
       "    </tr>\n",
       "    <tr>\n",
       "      <th>NAO_REEMB_MUNICIPAL</th>\n",
       "      <td>0.447105</td>\n",
       "    </tr>\n",
       "    <tr>\n",
       "      <th>NAO_REEMB_IES</th>\n",
       "      <td>53.928295</td>\n",
       "    </tr>\n",
       "    <tr>\n",
       "      <th>NAO_REEMB_EXTERNA</th>\n",
       "      <td>3.437059</td>\n",
       "    </tr>\n",
       "    <tr>\n",
       "      <th>NAO_REEMB_OUTRA</th>\n",
       "      <td>0.000000</td>\n",
       "    </tr>\n",
       "  </tbody>\n",
       "</table>\n",
       "</div>"
      ],
      "text/plain": [
       "                     Percentual por tipo de financiamento\n",
       "FIES                                            16.016646\n",
       "REEMB_ESTADUAL                                   0.116604\n",
       "REEMB_MUNICIPAL                                  0.147331\n",
       "REEMB_IES                                        7.628154\n",
       "REEMB_EXTERNA                                    0.700418\n",
       "REEMB_OUTRA                                      0.000000\n",
       "PROUNI_INTEGR                                   12.534263\n",
       "PROUNI_PARCIAL                                   4.369550\n",
       "NAO_REEMB_ESTADUAL                               0.674576\n",
       "NAO_REEMB_MUNICIPAL                              0.447105\n",
       "NAO_REEMB_IES                                   53.928295\n",
       "NAO_REEMB_EXTERNA                                3.437059\n",
       "NAO_REEMB_OUTRA                                  0.000000"
      ]
     },
     "execution_count": 191,
     "metadata": {},
     "output_type": "execute_result"
    }
   ],
   "source": [
    "df"
   ]
  },
  {
   "cell_type": "markdown",
   "metadata": {},
   "source": [
    "# Percebemos então que o grande financiador em 2019 da educação privada de afrodescendentes são as próprias instituições de ensino, perfazendo mais de 60% do total."
   ]
  },
  {
   "cell_type": "code",
   "execution_count": null,
   "metadata": {},
   "outputs": [],
   "source": []
  },
  {
   "cell_type": "markdown",
   "metadata": {},
   "source": [
    "# Já vimos como o ensino privado se comporta. Agora vamos analisar o impacto de políticas de cotas.\n",
    "\n",
    "## Nesse aspecto é importante salientar que a lei de cotas de 2012 estabelece que apenas 50% das vagas serão fornecidas a estudantes que completaram o ensino médio em rede pública (excluindo das cotas obrigatórias por lei os estudantes do ensino privado) e que essas cotas seriam estabelecidas de acordo com a composição racial da unidade federativa e de maneira gradual depois da sua promulgação valendo apenas para instituições vinculadas ao nível federal ( http://www.planalto.gov.br/ccivil_03/_ato2011-2014/2012/lei/l12711.htm).\n",
    "\n",
    "## Portanto temos questões como temporalidade, configuração racial específica da UF, existência de instituições não federais. Todos esses aspectos poderiam ser analisados em separado, garantindo um filtro mais local. Mas, como o intuito aqui é uma análise macro, deixarei de lado essas questões. Dessa perspectiva, será possível averiguar como a política pública de cotas influenciou o sistema como um todo ao longo dos anos, incluindo um período anterior à lei e um período de adaptação, bem como poderemos ver que se o aumento no ingresso de afrodescendentes após o período de adaptação significaria a expansão das cotas para instituições não federais."
   ]
  },
  {
   "cell_type": "code",
   "execution_count": 193,
   "metadata": {},
   "outputs": [],
   "source": [
    "df_2009_afro_cota = df_2009_afro_pub[df_2009_afro_pub['IN_RESERVA_ETNICO'].isin([1])]\n",
    "df_2010_afro_cota = df_2010_afro_pub[df_2010_afro_pub['IN_RESERVA_ETNICO'].isin([1])] \n",
    "df_2011_afro_cota = df_2011_afro_pub[df_2011_afro_pub['IN_RESERVA_ETNICO'].isin([1])] \n",
    "df_2012_afro_cota = df_2012_afro_pub[df_2012_afro_pub['IN_RESERVA_ETNICO'].isin([1])] \n",
    "df_2013_afro_cota = df_2013_afro_pub[df_2013_afro_pub['IN_RESERVA_ETNICO'].isin([1])] \n",
    "df_2014_afro_cota = df_2014_afro_pub[df_2014_afro_pub['IN_RESERVA_ETNICO'].isin([1])] \n",
    "df_2015_afro_cota = df_2015_afro_pub[df_2015_afro_pub['IN_RESERVA_ETNICO'].isin([1])] \n",
    "df_2016_afro_cota = df_2016_afro_pub[df_2016_afro_pub['IN_RESERVA_ETNICO'].isin([1])] \n",
    "df_2017_afro_cota = df_2017_afro_pub[df_2017_afro_pub['IN_RESERVA_ETNICO'].isin([1])] \n",
    "df_2018_afro_cota = df_2018_afro_pub[df_2018_afro_pub['IN_RESERVA_ETNICO'].isin([1])] \n",
    "df_2019_afro_cota = df_2019_afro_pub[df_2019_afro_pub['IN_RESERVA_ETNICO'].isin([1])] "
   ]
  },
  {
   "cell_type": "code",
   "execution_count": 194,
   "metadata": {},
   "outputs": [
    {
     "name": "stderr",
     "output_type": "stream",
     "text": [
      "/home/leandro/anaconda3/lib/python3.8/site-packages/dask/core.py:121: DtypeWarning: Columns (13) have mixed types.Specify dtype option on import or set low_memory=False.\n",
      "  return func(*(_execute_task(a, cache) for a in args))\n",
      "/home/leandro/anaconda3/lib/python3.8/site-packages/dask/core.py:121: DtypeWarning: Columns (10) have mixed types.Specify dtype option on import or set low_memory=False.\n",
      "  return func(*(_execute_task(a, cache) for a in args))\n",
      "/home/leandro/anaconda3/lib/python3.8/site-packages/dask/core.py:121: DtypeWarning: Columns (10) have mixed types.Specify dtype option on import or set low_memory=False.\n",
      "  return func(*(_execute_task(a, cache) for a in args))\n"
     ]
    }
   ],
   "source": [
    "afro_cota = [len(df_2009_afro_cota.index),len(df_2010_afro_cota.index),len(df_2011_afro_cota.index),\n",
    "            len(df_2012_afro_cota.index),len(df_2013_afro_cota.index),len(df_2014_afro_cota.index),\n",
    "            len(df_2015_afro_cota.index),len(df_2016_afro_cota.index),\n",
    "        len(df_2017_afro_cota.index),len(df_2018_afro_cota.index),len(df_2019_afro_cota.index)]"
   ]
  },
  {
   "cell_type": "code",
   "execution_count": 195,
   "metadata": {
    "scrolled": false
   },
   "outputs": [
    {
     "data": {
      "image/png": "[encoded data removed]",
      "text/plain": [
       "<Figure size 1440x1152 with 1 Axes>"
      ]
     },
     "metadata": {
      "needs_background": "light"
     },
     "output_type": "display_data"
    }
   ],
   "source": [
    "fig, ax = plt.subplots(figsize=(20,16))\n",
    "plt.title(\"Número absoluto de alunos afrodescendentes no ensino superior público ingressantes por cotas\", fontsize= 18)\n",
    "plt.xticks(anos, fontsize =12)\n",
    "plt.yticks(afro_cota, fontsize=12)\n",
    "plt.bar(anos,afro_cota)\n",
    "plt.show()"
   ]
  },
  {
   "cell_type": "code",
   "execution_count": 202,
   "metadata": {},
   "outputs": [],
   "source": [
    "percentis = [(a/b)*100 for a,b in zip(afro_cota,afro_pub)]"
   ]
  },
  {
   "cell_type": "code",
   "execution_count": 203,
   "metadata": {},
   "outputs": [
    {
     "data": {
      "text/html": [
       "<div>\n",
       "<style scoped>\n",
       "    .dataframe tbody tr th:only-of-type {\n",
       "        vertical-align: middle;\n",
       "    }\n",
       "\n",
       "    .dataframe tbody tr th {\n",
       "        vertical-align: top;\n",
       "    }\n",
       "\n",
       "    .dataframe thead th {\n",
       "        text-align: right;\n",
       "    }\n",
       "</style>\n",
       "<table border=\"1\" class=\"dataframe\">\n",
       "  <thead>\n",
       "    <tr style=\"text-align: right;\">\n",
       "      <th></th>\n",
       "      <th>percentagem de afrodescendentes cotistas</th>\n",
       "    </tr>\n",
       "  </thead>\n",
       "  <tbody>\n",
       "    <tr>\n",
       "      <th>2009</th>\n",
       "      <td>0.000000</td>\n",
       "    </tr>\n",
       "    <tr>\n",
       "      <th>2010</th>\n",
       "      <td>5.601872</td>\n",
       "    </tr>\n",
       "    <tr>\n",
       "      <th>2011</th>\n",
       "      <td>6.501818</td>\n",
       "    </tr>\n",
       "    <tr>\n",
       "      <th>2012</th>\n",
       "      <td>6.947144</td>\n",
       "    </tr>\n",
       "    <tr>\n",
       "      <th>2013</th>\n",
       "      <td>8.464757</td>\n",
       "    </tr>\n",
       "    <tr>\n",
       "      <th>2014</th>\n",
       "      <td>16.371009</td>\n",
       "    </tr>\n",
       "    <tr>\n",
       "      <th>2015</th>\n",
       "      <td>19.576011</td>\n",
       "    </tr>\n",
       "    <tr>\n",
       "      <th>2016</th>\n",
       "      <td>24.767420</td>\n",
       "    </tr>\n",
       "    <tr>\n",
       "      <th>2017</th>\n",
       "      <td>26.424620</td>\n",
       "    </tr>\n",
       "    <tr>\n",
       "      <th>2018</th>\n",
       "      <td>28.145406</td>\n",
       "    </tr>\n",
       "    <tr>\n",
       "      <th>2019</th>\n",
       "      <td>30.804465</td>\n",
       "    </tr>\n",
       "  </tbody>\n",
       "</table>\n",
       "</div>"
      ],
      "text/plain": [
       "      percentagem de afrodescendentes cotistas\n",
       "2009                                  0.000000\n",
       "2010                                  5.601872\n",
       "2011                                  6.501818\n",
       "2012                                  6.947144\n",
       "2013                                  8.464757\n",
       "2014                                 16.371009\n",
       "2015                                 19.576011\n",
       "2016                                 24.767420\n",
       "2017                                 26.424620\n",
       "2018                                 28.145406\n",
       "2019                                 30.804465"
      ]
     },
     "execution_count": 203,
     "metadata": {},
     "output_type": "execute_result"
    }
   ],
   "source": [
    "pd.DataFrame(zip(percentis) ,index=anos,columns =['percentagem de afrodescendentes cotistas'] )"
   ]
  },
  {
   "cell_type": "code",
   "execution_count": 206,
   "metadata": {},
   "outputs": [
    {
     "data": {
      "image/png": "[encoded data removed]",
      "text/plain": [
       "<Figure size 1440x1152 with 1 Axes>"
      ]
     },
     "metadata": {
      "needs_background": "light"
     },
     "output_type": "display_data"
    }
   ],
   "source": [
    "fig, ax = plt.subplots(figsize=(20,16))\n",
    "plt.title(\"Número relativo de alunos afrodescendentes no ensino superior público ingressantes por cotas (em %)\", fontsize= 18)\n",
    "plt.xticks(anos, fontsize =12)\n",
    "plt.yticks(percentis, fontsize=12)\n",
    "plt.bar(anos,percentis)\n",
    "plt.show()"
   ]
  },
  {
   "cell_type": "markdown",
   "metadata": {},
   "source": [
    "# Os pressupostos são confirmados pelos dados.\n",
    "\n",
    "## Há durante todo o período tanto o aumento bruto quanto relativo de alunos afrodescendentes ingressantes em instituições de ensino públicas por meio de cotas.\n",
    "\n",
    "## Esse aumento se acentua a partir de 2013 (ano de efetiva entrada em vigor da lei de cotas) e se acelera fortemente a partir de 2014.\n",
    "\n",
    "## Interessante notar a ausência de cotitas no ano de 2009, os motivos não são claros. Também a análise demonstrou que no ensino privado não há praticamente cotas raciais, com raras exeções que não influenciam o cenário\n",
    "\n",
    "## Também é preciso salientar que apesar desse avanço ainda temos uma distorção em relação à composição racial brasileira que de acordo com o IBGE é de aproximadamente 55% (https://www.ibge.gov.br/estatisticas/sociais/populacao/25844-desigualdades-sociais-por-cor-ou-raca.html?=&t=resultados).\n",
    "\n",
    "## Esse cenário demonstra que ainda existem barreiras de acesso no ensino médio que se refletem no ensino superior.\n",
    "\n",
    "## Outros fatores poderiam ser alvo de outras análises. Destaco: as relações entre as composições raciais das UFs e suas respectivas proporções de afrodescentes nas instituições federais, a 'migração' de alunos de UFs com melhores consições educacionais para instituições em outras UFs, a distorção entre a composição racial da UF e de seus estudantes."
   ]
  },
  {
   "cell_type": "code",
   "execution_count": null,
   "metadata": {},
   "outputs": [],
   "source": []
  }
 ],
 "metadata": {
  "kernelspec": {
   "display_name": "Python 3",
   "language": "python",
   "name": "python3"
  },
  "language_info": {
   "codemirror_mode": {
    "name": "ipython",
    "version": 3
   },
   "file_extension": ".py",
   "mimetype": "text/x-python",
   "name": "python",
   "nbconvert_exporter": "python",
   "pygments_lexer": "ipython3",
   "version": "3.8.5"
  }
 },
 "nbformat": 4,
 "nbformat_minor": 4
}
